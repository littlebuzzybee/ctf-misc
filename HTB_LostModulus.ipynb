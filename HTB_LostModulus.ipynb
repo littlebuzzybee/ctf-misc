{
 "cells": [
  {
   "cell_type": "code",
   "execution_count": 120,
   "id": "392d9f6e",
   "metadata": {},
   "outputs": [],
   "source": [
    "out = \"05c61636499a82088bf4388203a93e67bf046f8c49f62857681ec9aaaa40b4772933e0abc83e938c84ff8e67e5ad85bd6eca167585b0cc03eb1333b1b1462d9d7c25f44e53bcb568f0f05219c0147f7dc3cbad45dec2f34f03bcadcbba866dd0c566035c8122d68255ada7d18954ad604965\""
   ]
  },
  {
   "cell_type": "code",
   "execution_count": 121,
   "id": "e616b99a",
   "metadata": {},
   "outputs": [],
   "source": [
    "c = int(out, 16)"
   ]
  },
  {
   "cell_type": "code",
   "execution_count": 122,
   "id": "1b5323be",
   "metadata": {},
   "outputs": [
    {
     "data": {
      "text/plain": [
       "780865154948750571515875825956842965597268480061942498223759415931178548538528991182487495101556011494286950683286512165475038389107892269787484651054279065941410737793736223804092347531386151065849807188034668245557897119294115024094420977925386642701753372658008076601701"
      ]
     },
     "execution_count": 122,
     "metadata": {},
     "output_type": "execute_result"
    }
   ],
   "source": [
    "c"
   ]
  },
  {
   "cell_type": "markdown",
   "id": "e0bdc9d7",
   "metadata": {},
   "source": [
    "$c = m^3 \\mod n$\n",
    "\n",
    "assuming $m^3 < n$, we just have to take the cubic root of c"
   ]
  },
  {
   "cell_type": "markdown",
   "id": "b996f995",
   "metadata": {},
   "source": [
    "[relevant stackoverflow](https://stackoverflow.com/questions/55436001/cube-root-of-a-very-large-number-using-only-math-library)"
   ]
  },
  {
   "cell_type": "code",
   "execution_count": 123,
   "id": "d5318058",
   "metadata": {},
   "outputs": [],
   "source": [
    "def find_invpow(x,n):\n",
    "    \"\"\"Finds the integer component of the n'th root of x,\n",
    "    an integer such that y ** n <= x < (y + 1) ** n.\n",
    "    \"\"\"\n",
    "    high = 1\n",
    "    while high ** n < x:\n",
    "        high *= 2\n",
    "    low = high // 2\n",
    "    while low < high:\n",
    "        mid = (low + high) // 2\n",
    "        if low < mid and mid**n < x:\n",
    "            low = mid\n",
    "        elif high > mid and mid**n > x:\n",
    "            high = mid\n",
    "        else:\n",
    "            return mid\n",
    "    return mid + 1"
   ]
  },
  {
   "cell_type": "code",
   "execution_count": 124,
   "id": "3d0f83be",
   "metadata": {},
   "outputs": [],
   "source": [
    "foo = find_invpow(c, 3)"
   ]
  },
  {
   "cell_type": "code",
   "execution_count": 125,
   "id": "74ca3a04",
   "metadata": {},
   "outputs": [
    {
     "name": "stdout",
     "output_type": "stream",
     "text": [
      "HTB{n3v3r_us3_sm4ll_3xp0n3n7s_f0r_rs4}\n"
     ]
    }
   ],
   "source": [
    "print(bytes.fromhex(hex(foo)[2:]).decode('utf-8'))"
   ]
  }
 ],
 "metadata": {
  "kernelspec": {
   "display_name": "Python 3 (ipykernel)",
   "language": "python",
   "name": "python3"
  },
  "language_info": {
   "codemirror_mode": {
    "name": "ipython",
    "version": 3
   },
   "file_extension": ".py",
   "mimetype": "text/x-python",
   "name": "python",
   "nbconvert_exporter": "python",
   "pygments_lexer": "ipython3",
   "version": "3.8.11"
  }
 },
 "nbformat": 4,
 "nbformat_minor": 5
}
