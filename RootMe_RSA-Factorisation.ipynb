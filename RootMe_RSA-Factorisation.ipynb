{
 "cells": [
  {
   "cell_type": "code",
   "execution_count": 73,
   "id": "f1d2daea-732f-48d2-9f26-5200b8dfdab3",
   "metadata": {},
   "outputs": [],
   "source": [
    "from Crypto.PublicKey import RSA\n",
    "import numpy as np\n",
    "import base64\n",
    "from binascii import hexlify,unhexlify"
   ]
  },
  {
   "cell_type": "code",
   "execution_count": 4,
   "id": "4d70f928-2c4f-4558-a062-1c9f7c2fba79",
   "metadata": {},
   "outputs": [
    {
     "data": {
      "text/plain": [
       "RsaKey(n=188198812920607963838697239461650439807163563379417382700763356422988859715234665485319060606504743045317388011303396716199692321205734031879550656996221305168759307650257059, e=65537)"
      ]
     },
     "execution_count": 4,
     "metadata": {},
     "output_type": "execute_result"
    }
   ],
   "source": [
    "key = RSA.import_key(open(\"pubkey.pem\").read())\n",
    "key"
   ]
  },
  {
   "cell_type": "markdown",
   "id": "335b8bda-3962-4d17-907c-0189076d573c",
   "metadata": {},
   "source": [
    "http://factordb.com/index.php?query=188198812920607963838697239461650439807163563379417382700763356422988859715234665485319060606504743045317388011303396716199692321205734031879550656996221305168759307650257059"
   ]
  },
  {
   "cell_type": "code",
   "execution_count": 10,
   "id": "afe29b51-0617-4f59-9ea1-0d271f87214e",
   "metadata": {},
   "outputs": [],
   "source": [
    "p = 398075086424064937397125500550386491199064362342526708406385189575946388957261768583317\n",
    "q = 472772146107435302536223071973048224632914695302097116459852171130520711256363590397527"
   ]
  },
  {
   "cell_type": "code",
   "execution_count": 41,
   "id": "b731df24-85de-4165-bd73-05de0193af75",
   "metadata": {},
   "outputs": [
    {
     "data": {
      "text/plain": [
       "True"
      ]
     },
     "execution_count": 41,
     "metadata": {},
     "output_type": "execute_result"
    }
   ],
   "source": [
    "p*q == key.n"
   ]
  },
  {
   "cell_type": "code",
   "execution_count": 72,
   "id": "5f0cd1b0-a631-490e-85c9-b40ad0e11c3d",
   "metadata": {},
   "outputs": [],
   "source": [
    "cyphertext = \"e8oQDihsmkvjT3sZe+EE8lwNvBEsFegYF6+OOFOiR6gMtMZxxba/bIgLUD8pV3yEf0gOOfHuB5bC3vQmo7bE4PcIKfpFGZBA\""
   ]
  },
  {
   "cell_type": "code",
   "execution_count": 1,
   "id": "83558d80-0bca-4df9-85c8-8c89fdd82a33",
   "metadata": {},
   "outputs": [],
   "source": [
    "# extended greater common divisor\n",
    "def egcd(a, b):\n",
    "    if a == 0:\n",
    "        return (b, 0, 1)\n",
    "    else:\n",
    "        g, y, x = egcd(b % a, a)\n",
    "        return (g, x - (b // a) * y, y)\n",
    "\n",
    "\n",
    "# modular inverse\n",
    "def modinv(a, m):\n",
    "    g, x, y = egcd(a, m)\n",
    "    if g != 1:\n",
    "        raise Exception('modular inverse does not exist')\n",
    "    else:\n",
    "        return x % m\n",
    "\n",
    "    \n",
    "# ciphertext to integer\n",
    "def ct2int(ct):\n",
    "    return int(hexlify(base64.b64decode(ct)), 16)\n",
    "\n",
    "\n",
    "# integer to plaintext\n",
    "def int2pt(m):\n",
    "    hexm = hex(m)[2:]  # .strip(\"L\")\n",
    "    if len(hexm) % 2:\n",
    "        hexm = '0' + hexm\n",
    "    return unhexlify(hexm)"
   ]
  },
  {
   "cell_type": "code",
   "execution_count": 86,
   "id": "03e6a735-dd24-490b-95e8-b09057c0f4fb",
   "metadata": {},
   "outputs": [
    {
     "data": {
      "text/plain": [
       "119597105930544804939860850116469838181273811698209889318158329611052747100532130142039909784725021654968490445938734726928723104382945308422050675301929768086395211461791808"
      ]
     },
     "execution_count": 86,
     "metadata": {},
     "output_type": "execute_result"
    }
   ],
   "source": [
    "c = ct2int(cyphertext)\n",
    "c"
   ]
  },
  {
   "cell_type": "code",
   "execution_count": 76,
   "id": "bca50d41-2256-4848-ae4f-f4a3e034a9a7",
   "metadata": {},
   "outputs": [
    {
     "data": {
      "text/plain": [
       "94099406460303981919348619730825219903581781689708691350381678211494429857617332742659094879636105772538727331365436640741930171074044704027342209817757419034272841145638108"
      ]
     },
     "execution_count": 76,
     "metadata": {},
     "output_type": "execute_result"
    }
   ],
   "source": [
    "lambda_of_n = np.lcm(p-1, q-1)\n",
    "lambda_of_n"
   ]
  },
  {
   "cell_type": "code",
   "execution_count": 79,
   "id": "f1e05c14-f814-433d-bb13-9ecfdf805ff3",
   "metadata": {},
   "outputs": [
    {
     "name": "stdout",
     "output_type": "stream",
     "text": [
      "gcd(e, λ(n)) = 1 and modinv(e, λ(n)) = 1\n"
     ]
    }
   ],
   "source": [
    "print(f\"gcd(e, λ(n)) = {np.gcd(key.e, lambda_of_n)} and modinv(e, λ(n)) = {d*key.e % lambda_of_n}\")"
   ]
  },
  {
   "cell_type": "code",
   "execution_count": 66,
   "id": "d93274a0-e98b-40eb-ba64-d76ad1b69133",
   "metadata": {},
   "outputs": [
    {
     "data": {
      "text/plain": [
       "48318251158920145864930035723053089097690375168562443830554407970661009102774592695057202204701378327623682075089028698815133956650193819978456750305738325912711134934968241"
      ]
     },
     "execution_count": 66,
     "metadata": {},
     "output_type": "execute_result"
    }
   ],
   "source": [
    "d = modinv(key.e, lambda_of_n)\n",
    "d"
   ]
  },
  {
   "cell_type": "code",
   "execution_count": 81,
   "id": "3e83623e-3d38-473e-a1ab-0d4e8f784fa9",
   "metadata": {},
   "outputs": [
    {
     "data": {
      "text/plain": [
       "7866435180719351620950140112257156212489132106650279078539796875908190600648028413346440808778749178067889240565288397210143595961732257042711322381634908920272905584906"
      ]
     },
     "execution_count": 81,
     "metadata": {},
     "output_type": "execute_result"
    }
   ],
   "source": [
    "m = pow(c, d, key.n)\n",
    "m"
   ]
  },
  {
   "cell_type": "code",
   "execution_count": 89,
   "id": "609cd487-5bd3-47d0-8426-e71d8be91de7",
   "metadata": {},
   "outputs": [
    {
     "data": {
      "text/plain": [
       "b'\\x02\\x15\\x9b\\x07@\\x1a]\\xfe\\x93&\\xa7\\xa8\\xdcTq\\xed\\x8d?\\x93\\xa6V\\x16\\xdb\\t\\x16\\xae\\xcf\\x132U\\x02T\\xfe\\xd5Ae\"h\\x9eGk\\x02\\x14\\x1d\\xee`R!\\x86\\xe0`e\\xff\\xd8\\xf0\\x00up2l6DnaIhZgxA\\n'"
      ]
     },
     "execution_count": 89,
     "metadata": {},
     "output_type": "execute_result"
    }
   ],
   "source": [
    "int2pt(m)"
   ]
  },
  {
   "cell_type": "code",
   "execution_count": null,
   "id": "3be9973f-6e72-4be5-808d-93c58bec5668",
   "metadata": {},
   "outputs": [],
   "source": []
  }
 ],
 "metadata": {
  "kernelspec": {
   "display_name": "Python 3 (ipykernel)",
   "language": "python",
   "name": "python3"
  },
  "language_info": {
   "codemirror_mode": {
    "name": "ipython",
    "version": 3
   },
   "file_extension": ".py",
   "mimetype": "text/x-python",
   "name": "python",
   "nbconvert_exporter": "python",
   "pygments_lexer": "ipython3",
   "version": "3.8.11"
  }
 },
 "nbformat": 4,
 "nbformat_minor": 5
}
