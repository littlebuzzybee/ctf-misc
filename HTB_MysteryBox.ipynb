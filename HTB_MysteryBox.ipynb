{
 "cells": [
  {
   "cell_type": "code",
   "execution_count": 101,
   "metadata": {},
   "outputs": [],
   "source": [
    "from Crypto.Util.number import bytes_to_long"
   ]
  },
  {
   "cell_type": "code",
   "execution_count": 102,
   "metadata": {},
   "outputs": [
    {
     "data": {
      "text/plain": [
       "861934499667986621552658522992711737960484613144058684918624923247791760594840402997853247655770722704545163272571668019"
      ]
     },
     "execution_count": 102,
     "metadata": {},
     "output_type": "execute_result"
    }
   ],
   "source": [
    "c0 = bytes_to_long(b\"Username: Admin, Access code: CryptoBestCategoryF3\")\n",
    "c0"
   ]
  },
  {
   "cell_type": "markdown",
   "metadata": {},
   "source": [
    "Providing $c$, the server computes $m$ such that $m \\equiv c^d [n]$.\n",
    "\n",
    "Of course the server refuses to sign $c_0$. However it lets us sign $-c_0$: $(-c_0)^d = (-1)^d c_0^d = -m_0 = m' [n]$. Then just check signature with $c_0$ as message and $-m'$ as signature."
   ]
  },
  {
   "cell_type": "markdown",
   "metadata": {},
   "source": [
    "Without cheating, we can get the modulus by signing $-1$: $(-1)^d = -1 = n-1 [n]$"
   ]
  },
  {
   "cell_type": "code",
   "execution_count": 103,
   "metadata": {},
   "outputs": [],
   "source": [
    "n = 1 + 49986811700530999431013690978697762126183008750373776358583420086140080255332098446183071476611498020031328568756941867070316540352471460487667398643706335948504004880386272262303262261083723252747108706217618318413709747959743138360179713881549891113433146001116748694349109570226612350330986262398629295030"
   ]
  },
  {
   "cell_type": "markdown",
   "metadata": {},
   "source": [
    "Let us choose an arbitrary $c_1 > 1$, e.g. $c_1 = 2$. Then compute $c_2 = c_0 c_1^{-1} [n]$."
   ]
  },
  {
   "cell_type": "code",
   "execution_count": 106,
   "metadata": {},
   "outputs": [
    {
     "data": {
      "text/plain": [
       "24993405850265499715506845489348881063091504375186888179291710043070040127666049223091535738305749010015664284378470933535158270176235730243833699321853167974252002440193136131151631130542292593623388346419585488468351229848851811486661886283234258018340468880855794548673481408941191536517765712835600481525"
      ]
     },
     "execution_count": 106,
     "metadata": {},
     "output_type": "execute_result"
    }
   ],
   "source": [
    "c1 = 2\n",
    "c2 = c0 * pow(c1, -1, n) % n\n",
    "c2"
   ]
  },
  {
   "cell_type": "markdown",
   "metadata": {},
   "source": [
    "The server will kindly let us sign $c_1$ and $c_2$ and give us $m_1$ and $m_2$. Then we find that $m_0 = c_0^d = c_1^d c_2^d = m_1 m_2 [n]$."
   ]
  },
  {
   "cell_type": "code",
   "execution_count": 110,
   "metadata": {},
   "outputs": [
    {
     "data": {
      "text/plain": [
       "24972152993715100902861007074776237588224114284508642447591969273866635945207757277527835010601751797653707626845719168197536180149533008382468762728848684528637664055064244305628108957810012647482612607858314655505432175741608964689100279405194805209542382809713465602127866234353003272649893746436183342184"
      ]
     },
     "execution_count": 110,
     "metadata": {},
     "output_type": "execute_result"
    }
   ],
   "source": [
    "m1 = 24462887192130423930327441777565331349336204463084703975516971023377057001170845789039500066782102037506002864617909223586837673738492512596882261259252360766980163701794299288725788808271875371928349530843932880715757390973949696157379440666584843723409939492691974193573149190180365391441146536584835131210\n",
    "m2 = 13514776397704282663258508612267144082992264614313138222370637146625680703527370422187607548821773206336492931258136273685178834373975828269072438450593852709271271965777635073128002513699141545895537710355216960791577982854088833688739713533647625695193242964392536161676521047219098138670513190142062315612\n",
    "m0 = (m1 * m2) % n\n",
    "m0"
   ]
  },
  {
   "cell_type": "markdown",
   "metadata": {},
   "source": [
    "Finally, ask the server to verify message $c_0$ with signature $m_0$."
   ]
  }
 ],
 "metadata": {
  "kernelspec": {
   "display_name": "perso",
   "language": "python",
   "name": "python3"
  },
  "language_info": {
   "codemirror_mode": {
    "name": "ipython",
    "version": 3
   },
   "file_extension": ".py",
   "mimetype": "text/x-python",
   "name": "python",
   "nbconvert_exporter": "python",
   "pygments_lexer": "ipython3",
   "version": "3.11.3"
  }
 },
 "nbformat": 4,
 "nbformat_minor": 2
}
