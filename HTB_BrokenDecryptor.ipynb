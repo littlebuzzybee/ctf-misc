{
 "cells": [
  {
   "cell_type": "code",
   "execution_count": 1,
   "metadata": {},
   "outputs": [],
   "source": [
    "import socketserver\n",
    "from Crypto.Cipher import AES\n",
    "from Crypto.Util import Counter\n",
    "import os\n",
    "import numpy as np\n",
    "import matplotlib.pyplot as plt"
   ]
  },
  {
   "cell_type": "code",
   "execution_count": 2,
   "metadata": {},
   "outputs": [],
   "source": [
    "key = os.urandom(0x10).replace(b'\\x00', b'\\xff')\n",
    "iv = os.urandom(0x10).replace(b'\\x00', b'\\xff')\n",
    "\n",
    "flag = \"HTB{1234567890}\""
   ]
  },
  {
   "cell_type": "code",
   "execution_count": 3,
   "metadata": {},
   "outputs": [],
   "source": [
    "def xor(a, b):\n",
    "    return bytes([_a ^ _b for _a, _b in zip(a, b)])\n",
    "\n",
    "def unhex(msg):\n",
    "    return bytes.fromhex(msg)\n",
    "\n",
    "def clean_encrypt(data):\n",
    "    ctr = Counter.new(128, initial_value=int(iv.hex(), 16))\n",
    "    crypto = AES.new(key, AES.MODE_CTR, counter=ctr)\n",
    "    if type(data) != bytes:\n",
    "        data = data.encode()\n",
    "    return crypto.encrypt(data)\n",
    "\n",
    "def encrypt(data):\n",
    "    ctr = Counter.new(128, initial_value=int(iv.hex(), 16))\n",
    "    crypto = AES.new(key, AES.MODE_CTR, counter=ctr)\n",
    "    if type(data) != bytes:\n",
    "        data = data.encode()\n",
    "    otp = os.urandom(len(data)).replace(b'\\x00', b'\\xff')\n",
    "    return xor(crypto.encrypt(data), otp)"
   ]
  },
  {
   "cell_type": "code",
   "execution_count": 4,
   "metadata": {},
   "outputs": [],
   "source": [
    "def pt2ct(pt: str) -> bytes:\n",
    "    d = {pos: [] for pos in range(len(pt))}\n",
    "    for _ in range(10_000):\n",
    "        noisy_ct = encrypt(pt)\n",
    "        for pos in range(len(pt)):\n",
    "            d[pos].append(noisy_ct[pos])\n",
    "    ct = b''\n",
    "    for pos in range(len(pt)):\n",
    "        u, counts = np.unique(d[pos], return_counts=True)\n",
    "        ct += bytes([u[np.argmax(counts)] ^ 0xff])\n",
    "    return ct"
   ]
  },
  {
   "cell_type": "code",
   "execution_count": 5,
   "metadata": {},
   "outputs": [
    {
     "data": {
      "text/plain": [
       "True"
      ]
     },
     "execution_count": 5,
     "metadata": {},
     "output_type": "execute_result"
    }
   ],
   "source": [
    "pt = \"I_am_a_test_string\"\n",
    "pt2ct(pt) == clean_encrypt(pt)"
   ]
  },
  {
   "cell_type": "code",
   "execution_count": 6,
   "metadata": {},
   "outputs": [
    {
     "data": {
      "text/plain": [
       "b'HTB{1234567890}'"
      ]
     },
     "execution_count": 6,
     "metadata": {},
     "output_type": "execute_result"
    }
   ],
   "source": [
    "zeros = b'\\x00' * len(flag)\n",
    "xor(pt2ct(zeros), pt2ct(flag))"
   ]
  },
  {
   "cell_type": "markdown",
   "metadata": {},
   "source": [
    "---"
   ]
  },
  {
   "cell_type": "code",
   "execution_count": 7,
   "metadata": {},
   "outputs": [
    {
     "name": "stdout",
     "output_type": "stream",
     "text": [
      "1) Get flag\n",
      "2) Encrypt Message\n",
      "3) Decrypt Message\n",
      "Your option: \n"
     ]
    }
   ],
   "source": [
    "import socket\n",
    "import re\n",
    "import time\n",
    "from tqdm.notebook import tqdm\n",
    "\n",
    "addr = \"167.99.85.216\"\n",
    "port = 31247\n",
    "timeout = 0.01\n",
    "N = 10_000\n",
    "\n",
    "s = socket.socket(socket.AF_INET, socket.SOCK_STREAM)\n",
    "s.connect((addr, port))\n",
    "time.sleep(0.1)\n",
    "print(s.recv(0x1000).decode())"
   ]
  },
  {
   "cell_type": "code",
   "execution_count": 8,
   "metadata": {},
   "outputs": [],
   "source": [
    "def get_noisy_enc_flag(s):\n",
    "    time.sleep(timeout)\n",
    "    s.send(b'1\\n')\n",
    "    time.sleep(timeout)\n",
    "    data = s.recv(0x1000).decode()\n",
    "    noisy_enc_flag = re.search(r'[0-9a-f]+', data).group(0)\n",
    "    time.sleep(timeout)\n",
    "    s.recv(0x1000) # return to menu\n",
    "    return bytes.fromhex(noisy_enc_flag)\n",
    "\n",
    "def get_noisy_enc_zeros(s, LEN):\n",
    "    time.sleep(timeout)\n",
    "    s.send(b'2\\n')\n",
    "    time.sleep(timeout)\n",
    "    s.recv(0x1000).decode()\n",
    "    zeros = b'\\x00' * LEN\n",
    "    time.sleep(timeout)\n",
    "    s.send(zeros.hex().encode() + b'\\n')\n",
    "    data = s.recv(0x1000).decode()\n",
    "    noisy_enc_zeros = re.search(r'[0-9a-f]+', data).group(0)\n",
    "    time.sleep(timeout)\n",
    "    s.recv(0x1000) # return to menu\n",
    "    return bytes.fromhex(noisy_enc_zeros)"
   ]
  },
  {
   "cell_type": "code",
   "execution_count": 9,
   "metadata": {},
   "outputs": [],
   "source": [
    "FLAG_LEN = len(get_noisy_enc_flag(s))"
   ]
  },
  {
   "cell_type": "code",
   "execution_count": 10,
   "metadata": {},
   "outputs": [
    {
     "data": {
      "application/vnd.jupyter.widget-view+json": {
       "model_id": "165e013c02864b6fb514b447f1184731",
       "version_major": 2,
       "version_minor": 0
      },
      "text/plain": [
       "  0%|          | 0/10000 [00:00<?, ?it/s]"
      ]
     },
     "metadata": {},
     "output_type": "display_data"
    }
   ],
   "source": [
    "d = {pos: [] for pos in range(FLAG_LEN)}\n",
    "for _ in tqdm(range(N)):\n",
    "    noisy_enc_flag = get_noisy_enc_flag(s)\n",
    "    for pos in range(FLAG_LEN):\n",
    "        d[pos].append(noisy_enc_flag[pos])\n",
    "flag_ct = b''\n",
    "for pos in range(FLAG_LEN):\n",
    "    u, counts = np.unique(d[pos], return_counts=True)\n",
    "    flag_ct += bytes([u[np.argmax(counts)] ^ 0xff])"
   ]
  },
  {
   "cell_type": "code",
   "execution_count": 11,
   "metadata": {},
   "outputs": [
    {
     "data": {
      "text/plain": [
       "b'\\x9e\\x04\\xff\\\\\\xca\\xc60\\x9f\\x1a\\x8e\\x92\\xf8\\xa0|\\x96'"
      ]
     },
     "execution_count": 11,
     "metadata": {},
     "output_type": "execute_result"
    }
   ],
   "source": [
    "flag_ct"
   ]
  },
  {
   "cell_type": "code",
   "execution_count": 12,
   "metadata": {},
   "outputs": [
    {
     "data": {
      "application/vnd.jupyter.widget-view+json": {
       "model_id": "2587ff1947dd4321ae53a80199bbeafd",
       "version_major": 2,
       "version_minor": 0
      },
      "text/plain": [
       "  0%|          | 0/10000 [00:00<?, ?it/s]"
      ]
     },
     "metadata": {},
     "output_type": "display_data"
    }
   ],
   "source": [
    "d = {pos: [] for pos in range(FLAG_LEN)}\n",
    "for _ in tqdm(range(N)):\n",
    "    noisy_enc_zeros = get_noisy_enc_zeros(s, FLAG_LEN)\n",
    "    for pos in range(FLAG_LEN):\n",
    "        d[pos].append(noisy_enc_zeros[pos])\n",
    "zeros_ct = b''\n",
    "for pos in range(FLAG_LEN):\n",
    "    u, counts = np.unique(d[pos], return_counts=True)\n",
    "    zeros_ct += bytes([u[np.argmax(counts)] ^ 0xff])"
   ]
  },
  {
   "cell_type": "code",
   "execution_count": 13,
   "metadata": {},
   "outputs": [
    {
     "data": {
      "text/plain": [
       "b\"\\xd6P\\xbd'\\xfb\\x90o\\xed)\\xfb\\xb6\\xcb\\x83]\\xeb\""
      ]
     },
     "execution_count": 13,
     "metadata": {},
     "output_type": "execute_result"
    }
   ],
   "source": [
    "zeros_ct"
   ]
  },
  {
   "cell_type": "code",
   "execution_count": 14,
   "metadata": {},
   "outputs": [
    {
     "data": {
      "text/plain": [
       "b'HTB{1V_r3u$3#!}'"
      ]
     },
     "execution_count": 14,
     "metadata": {},
     "output_type": "execute_result"
    }
   ],
   "source": [
    "xor(flag_ct, zeros_ct)"
   ]
  },
  {
   "cell_type": "code",
   "execution_count": null,
   "metadata": {},
   "outputs": [],
   "source": []
  }
 ],
 "metadata": {
  "kernelspec": {
   "display_name": "perso",
   "language": "python",
   "name": "python3"
  },
  "language_info": {
   "codemirror_mode": {
    "name": "ipython",
    "version": 3
   },
   "file_extension": ".py",
   "mimetype": "text/x-python",
   "name": "python",
   "nbconvert_exporter": "python",
   "pygments_lexer": "ipython3",
   "version": "3.11.3"
  }
 },
 "nbformat": 4,
 "nbformat_minor": 2
}
