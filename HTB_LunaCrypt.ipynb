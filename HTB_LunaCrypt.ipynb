{
 "cells": [
  {
   "cell_type": "code",
   "execution_count": 46,
   "id": "2f0b0921",
   "metadata": {},
   "outputs": [],
   "source": [
    "import math\n",
    "from random import randint, seed\n",
    "from time import time, process_time\n",
    "\n",
    "strchr = lambda x: chr(x)\n",
    "strbyt = lambda x, y=0: ord(x[y])\n",
    "bitlst = lambda x, y: x << y\n",
    "bitrst = lambda x, y: x >> y\n",
    "bitext = lambda x, y, z=1: bitrst(x, y) & int(math.pow(2, z) - 1)\n",
    "bitxor = lambda x, y: x ^ y\n",
    "bitbor = lambda x, y: x | y\n",
    "btest  = lambda x, y: (x & y) != 0\n",
    "mthrnd = lambda x, y: randint(x, y)\n",
    "mthrsd = lambda x: seed(x)\n",
    "osltim = lambda: int(time())\n",
    "oslclk = lambda: process_time()\n",
    "\n",
    "\n",
    "FL_NEGATE = bitlst(1, 1) # 2\n",
    "FL_UNUSED3 = bitlst(1, 2) # 4\n",
    "FL_XORBY6B = bitlst(1, 3) # 8\n",
    "FL_XORBY3E = bitlst(1, 4) # 16\n",
    "FL_UNUSED2 = bitlst(1, 5) # 32\n",
    "FL_SWAPBYTES = bitlst(1, 6) # 64\n",
    "FL_UNUSED1 = bitlst(1, 7) # 128\n",
    "\n",
    "currtime = osltim()\n",
    "while True:\n",
    "    if osltim() - currtime != 0: # wait for next second\n",
    "        break\n",
    "\n",
    "mthrsd(osltim() + oslclk() * 1000) # initialize seed\n",
    "\n",
    "def ValidateChar(char):\n",
    "    if type(char) is str and len(char) == 1:\n",
    "        char = strbyt(char)\n",
    "    return char\n",
    "\n",
    "def GenerateFlag():\n",
    "    finalflag = 0\n",
    "    if mthrnd(0, 1) == 1:\n",
    "        finalflag = bitbor(finalflag, FL_SWAPBYTES)\n",
    "    if mthrnd(0, 1) == 1:\n",
    "        finalflag = bitbor(finalflag, FL_NEGATE)\n",
    "    if mthrnd(0, 1) == 1:\n",
    "        finalflag = bitbor(finalflag, FL_XORBY6B)\n",
    "    if mthrnd(0, 1) == 1:\n",
    "        finalflag = bitbor(finalflag, FL_XORBY3E)\n",
    "    if mthrnd(0, 1) == 1:\n",
    "        finalflag = bitbor(finalflag, FL_UNUSED3)\n",
    "    if mthrnd(0, 1) == 1:\n",
    "        finalflag = bitbor(finalflag, FL_UNUSED2)\n",
    "    if mthrnd(0, 1) == 1:\n",
    "        finalflag = bitbor(finalflag, FL_UNUSED1)\n",
    "\n",
    "    return finalflag # \"random\" int between 0 and 255\n",
    "\n",
    "def CheckFlag(f, flag):\n",
    "    return btest(f, flag) # (f & flag) != 0\n",
    "\n",
    "def ESwapChar(char):\n",
    "    char = ValidateChar(char)\n",
    "    THIS_MSB = bitext(char, 4, 4)\n",
    "    THIS_LSB = bitext(char, 0, 4)\n",
    "\n",
    "    return strchr(bitbor(bitxor(THIS_MSB, 0x0D), bitxor(bitlst(THIS_LSB, 4), 0xB0)))\n",
    "\n",
    "def XorBy6B(char):\n",
    "    char = ValidateChar(char)\n",
    "    \n",
    "    return strchr(bitxor(char, 0x6B))\n",
    "\n",
    "def XorBy3E(char):\n",
    "    char = ValidateChar(char)\n",
    "    \n",
    "    return strchr(bitxor(char, 0x3E))\n",
    "\n",
    "def NegateChar(char):\n",
    "    char = ValidateChar(char)\n",
    "    \n",
    "    return strchr(255 - char)\n",
    "\n",
    "FLAGS = []\n",
    "CHARS = []\n",
    "\n",
    "def AppendFlag(flag):\n",
    "    FLAGS.append(strchr(bitxor(flag, 0x4A)))\n",
    "\n",
    "def EncryptCharacter(char):\n",
    "    char = ValidateChar(char)\n",
    "    flag = GenerateFlag()\n",
    "\n",
    "    if CheckFlag(flag, FL_SWAPBYTES):\n",
    "        char = ESwapChar(char)\n",
    "    if CheckFlag(flag, FL_NEGATE):\n",
    "        char = NegateChar(char)\n",
    "    if CheckFlag(flag, FL_XORBY6B):\n",
    "        char = XorBy6B(char)\n",
    "    if CheckFlag(flag, FL_XORBY3E):\n",
    "        char = XorBy3E(char)\n",
    "\n",
    "    return char, flag\n",
    "\n",
    "def _Encrypt(string):\n",
    "    for i in range(0, len(string)):\n",
    "        char, flag = EncryptCharacter(strbyt(string, i)) # send int to EncryptCharacter\n",
    "\n",
    "        if type(char) is int:\n",
    "            char = strchr(char)\n",
    "\n",
    "        CHARS.append(char) # append a real char\n",
    "        AppendFlag(flag) # append an int\n",
    "\n",
    "def Encrypt(string):\n",
    "    _Encrypt(string)\n",
    "\n",
    "    output = [f\"{str(ord(v))} {str(ord(FLAGS[i]))}\" for i, v in enumerate(CHARS)]\n",
    "    file = open(\"output.txt\", \"w\")\n",
    "    file.write(' '.join(output))\n",
    "    file.close()"
   ]
  },
  {
   "cell_type": "code",
   "execution_count": 174,
   "id": "33235afd",
   "metadata": {},
   "outputs": [],
   "source": [
    "out = \"108 182 82 176 167 158 69 222 39 102 234 14 241 16 10 218 160 108 76 234 225 224 1 12 97 122 114 90 10 90 250 14 155 80 101 186 97 218 115 218 207 76 190 174 196 84 192 144\""
   ]
  },
  {
   "cell_type": "code",
   "execution_count": 175,
   "id": "569db536",
   "metadata": {},
   "outputs": [],
   "source": [
    "outlist = out.split(\" \")"
   ]
  },
  {
   "cell_type": "code",
   "execution_count": 176,
   "id": "173dd6ae",
   "metadata": {},
   "outputs": [],
   "source": [
    "ct = []\n",
    "for (i, n) in enumerate(outlist):\n",
    "    if i % 2 == 0:\n",
    "        ct.append((n, outlist[i+1]))"
   ]
  },
  {
   "cell_type": "code",
   "execution_count": 178,
   "id": "213cc39a",
   "metadata": {},
   "outputs": [
    {
     "name": "stdout",
     "output_type": "stream",
     "text": [
      "[('108', '182'), ('82', '176'), ('167', '158'), ('69', '222'), ('39', '102'), ('234', '14'), ('241', '16'), ('10', '218'), ('160', '108'), ('76', '234'), ('225', '224'), ('1', '12'), ('97', '122'), ('114', '90'), ('10', '90'), ('250', '14'), ('155', '80'), ('101', '186'), ('97', '218'), ('115', '218'), ('207', '76'), ('190', '174'), ('196', '84'), ('192', '144')]\n"
     ]
    }
   ],
   "source": [
    "print(ct)"
   ]
  },
  {
   "cell_type": "code",
   "execution_count": 75,
   "id": "e979a419",
   "metadata": {},
   "outputs": [
    {
     "data": {
      "text/plain": [
       "True"
      ]
     },
     "execution_count": 75,
     "metadata": {},
     "output_type": "execute_result"
    }
   ],
   "source": [
    "[ord(ESwapChar(ord(ESwapChar(ord(ESwapChar(ord(ESwapChar(_)))))))) for _ in range(256)] == [_ for _ in range(256)]"
   ]
  },
  {
   "cell_type": "markdown",
   "id": "898b0678",
   "metadata": {},
   "source": [
    "$($ord $\\circ$ ESwapChar$)^4 = \\mathrm{id}$"
   ]
  },
  {
   "cell_type": "code",
   "execution_count": 79,
   "id": "e2a01b12",
   "metadata": {},
   "outputs": [
    {
     "data": {
      "text/plain": [
       "True"
      ]
     },
     "execution_count": 79,
     "metadata": {},
     "output_type": "execute_result"
    }
   ],
   "source": [
    "[ord(NegateChar(ord(NegateChar(_)))) for _ in range(256)] == [_ for _ in range(256)]"
   ]
  },
  {
   "cell_type": "markdown",
   "id": "411056e0",
   "metadata": {},
   "source": [
    "$($ord $\\circ$ NegateChar$)^2 = \\mathrm{id}$"
   ]
  },
  {
   "cell_type": "code",
   "execution_count": 81,
   "id": "71877aca",
   "metadata": {},
   "outputs": [
    {
     "data": {
      "text/plain": [
       "True"
      ]
     },
     "execution_count": 81,
     "metadata": {},
     "output_type": "execute_result"
    }
   ],
   "source": [
    "[ord(XorBy6B(ord(XorBy6B(_)))) for _ in range(256)] == [ord(XorBy3E(ord(XorBy3E(_)))) for _ in range(256)] == [_ for _ in range(256)]"
   ]
  },
  {
   "cell_type": "markdown",
   "id": "818ecb29",
   "metadata": {},
   "source": [
    "$($ord $\\circ$ XorBy6B$)^2 = ($ord $\\circ$ XorBy3E$)^2 = \\mathrm{id}$"
   ]
  },
  {
   "cell_type": "code",
   "execution_count": 305,
   "id": "37fb7cef",
   "metadata": {},
   "outputs": [],
   "source": [
    "def DecryptCharacter(t): # flag must be int\n",
    "    (char, flag) = t\n",
    "    char = ValidateChar(char)\n",
    "\n",
    "    if CheckFlag(flag, FL_XORBY3E):\n",
    "        char = XorBy3E(char)\n",
    "    if CheckFlag(flag, FL_XORBY6B):\n",
    "        char = XorBy6B(char)\n",
    "    if CheckFlag(flag, FL_NEGATE):\n",
    "        char = NegateChar(char)\n",
    "    if CheckFlag(flag, FL_SWAPBYTES):\n",
    "        char = ESwapChar(ValidateChar(ESwapChar(ValidateChar(ESwapChar(char)))))\n",
    "        \n",
    "    if type(char) is int:\n",
    "        char = strchr(char)\n",
    "\n",
    "    return char"
   ]
  },
  {
   "cell_type": "code",
   "execution_count": 359,
   "id": "9315610d",
   "metadata": {},
   "outputs": [
    {
     "name": "stdout",
     "output_type": "stream",
     "text": [
      "HTB{Lun4_Lu4_L4t1n_M00n}\n"
     ]
    }
   ],
   "source": [
    "pt = []\n",
    "for (c, f) in ct:\n",
    "    pt.append(DecryptCharacter((ValidateChar(int(c)), bitxor(int(f), 0x4A))))\n",
    "print(\"\".join(pt))"
   ]
  }
 ],
 "metadata": {
  "kernelspec": {
   "display_name": "Python 3",
   "language": "python",
   "name": "python3"
  },
  "language_info": {
   "codemirror_mode": {
    "name": "ipython",
    "version": 3
   },
   "file_extension": ".py",
   "mimetype": "text/x-python",
   "name": "python",
   "nbconvert_exporter": "python",
   "pygments_lexer": "ipython3",
   "version": "3.8.11"
  }
 },
 "nbformat": 4,
 "nbformat_minor": 5
}
