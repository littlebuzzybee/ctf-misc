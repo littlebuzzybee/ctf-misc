{
 "cells": [
  {
   "cell_type": "code",
   "execution_count": 1,
   "id": "491d9be4-7058-49d9-a155-d5ba781c80fe",
   "metadata": {
    "execution": {
     "iopub.execute_input": "2023-06-06T16:42:30.165865Z",
     "iopub.status.busy": "2023-06-06T16:42:30.165646Z",
     "iopub.status.idle": "2023-06-06T16:42:30.860421Z",
     "shell.execute_reply": "2023-06-06T16:42:30.859734Z",
     "shell.execute_reply.started": "2023-06-06T16:42:30.165843Z"
    },
    "tags": []
   },
   "outputs": [],
   "source": [
    "import numpy as np\n",
    "import galois"
   ]
  },
  {
   "cell_type": "code",
   "execution_count": 2,
   "id": "77fbf87d-43a9-4d73-9c56-0f311a41be2e",
   "metadata": {
    "execution": {
     "iopub.execute_input": "2023-06-06T16:42:30.862179Z",
     "iopub.status.busy": "2023-06-06T16:42:30.861811Z",
     "iopub.status.idle": "2023-06-06T16:42:30.865713Z",
     "shell.execute_reply": "2023-06-06T16:42:30.865012Z",
     "shell.execute_reply.started": "2023-06-06T16:42:30.862147Z"
    },
    "tags": []
   },
   "outputs": [],
   "source": [
    "with open(\"challenge.png.encrypt\", \"rb\") as f:\n",
    "    c = f.read()"
   ]
  },
  {
   "cell_type": "markdown",
   "id": "54bc14d1-4bdc-429e-a7df-d20820bd7861",
   "metadata": {},
   "source": [
    "Known plaintext: we know the PNG magic number."
   ]
  },
  {
   "cell_type": "code",
   "execution_count": 3,
   "id": "aad4a211-4f04-47ba-86ba-2dde42871a60",
   "metadata": {
    "execution": {
     "iopub.execute_input": "2023-06-06T16:42:30.866762Z",
     "iopub.status.busy": "2023-06-06T16:42:30.866506Z",
     "iopub.status.idle": "2023-06-06T16:42:30.871096Z",
     "shell.execute_reply": "2023-06-06T16:42:30.870412Z",
     "shell.execute_reply.started": "2023-06-06T16:42:30.866741Z"
    },
    "tags": []
   },
   "outputs": [],
   "source": [
    "magic = bytes.fromhex(\"89504E470D0A1A0A\")"
   ]
  },
  {
   "cell_type": "code",
   "execution_count": 4,
   "id": "7b440a02-89ba-4d7c-9fd2-20a7987c95a0",
   "metadata": {
    "execution": {
     "iopub.execute_input": "2023-06-06T16:42:30.872637Z",
     "iopub.status.busy": "2023-06-06T16:42:30.872031Z",
     "iopub.status.idle": "2023-06-06T16:42:30.878405Z",
     "shell.execute_reply": "2023-06-06T16:42:30.877731Z",
     "shell.execute_reply.started": "2023-06-06T16:42:30.872601Z"
    },
    "tags": []
   },
   "outputs": [],
   "source": [
    "def xor(ba1, ba2):\n",
    "    return bytes([_a ^ _b for _a, _b in zip(ba1, ba2)])"
   ]
  },
  {
   "cell_type": "code",
   "execution_count": 5,
   "id": "e7ff4090-ac73-4f0b-aded-709ec9c5eb10",
   "metadata": {
    "execution": {
     "iopub.execute_input": "2023-06-06T16:42:30.879431Z",
     "iopub.status.busy": "2023-06-06T16:42:30.879223Z",
     "iopub.status.idle": "2023-06-06T16:42:30.887396Z",
     "shell.execute_reply": "2023-06-06T16:42:30.886770Z",
     "shell.execute_reply.started": "2023-06-06T16:42:30.879410Z"
    },
    "tags": []
   },
   "outputs": [
    {
     "data": {
      "text/plain": [
       "'cafe6f6b4d3979ca'"
      ]
     },
     "execution_count": 5,
     "metadata": {},
     "output_type": "execute_result"
    }
   ],
   "source": [
    "bitstream = xor(magic, c).hex()\n",
    "bitstream"
   ]
  },
  {
   "cell_type": "code",
   "execution_count": 6,
   "id": "718b4f8c-6cf5-4820-a4b5-3aa29ac3beb9",
   "metadata": {
    "execution": {
     "iopub.execute_input": "2023-06-06T16:42:30.888606Z",
     "iopub.status.busy": "2023-06-06T16:42:30.888190Z",
     "iopub.status.idle": "2023-06-06T16:42:30.895161Z",
     "shell.execute_reply": "2023-06-06T16:42:30.893514Z",
     "shell.execute_reply.started": "2023-06-06T16:42:30.888581Z"
    },
    "tags": []
   },
   "outputs": [
    {
     "name": "stdout",
     "output_type": "stream",
     "text": [
      "[1, 1, 0, 0, 1, 0, 1, 0, 1, 1, 1, 1, 1, 1, 1, 0, 0, 1, 1, 0, 1, 1, 1, 1, 0, 1, 1, 0, 1, 0, 1, 1, 0, 1, 0, 0, 1, 1, 0, 1, 0, 0, 1, 1, 1, 0, 0, 1, 0, 1, 1, 1, 1, 0, 0, 1, 1, 1, 0, 0, 1, 0, 1, 0]\n"
     ]
    }
   ],
   "source": [
    "seq = list(map(int, tuple(\"{0:08b}\".format(int(bitstream, 16)))))\n",
    "print(seq)"
   ]
  },
  {
   "cell_type": "code",
   "execution_count": 7,
   "id": "5860bb2e-e894-4d0b-a127-2aaf7fbbde25",
   "metadata": {
    "execution": {
     "iopub.execute_input": "2023-06-06T16:42:30.898211Z",
     "iopub.status.busy": "2023-06-06T16:42:30.897671Z",
     "iopub.status.idle": "2023-06-06T16:42:32.407699Z",
     "shell.execute_reply": "2023-06-06T16:42:32.406987Z",
     "shell.execute_reply.started": "2023-06-06T16:42:30.898186Z"
    },
    "tags": []
   },
   "outputs": [
    {
     "name": "stdout",
     "output_type": "stream",
     "text": [
      "Fibonacci LFSR:\n",
      "  field: GF(2)\n",
      "  feedback_poly: x^16 + x^11 + x^3 + x + 1\n",
      "  characteristic_poly: x^16 + x^15 + x^13 + x^5 + 1\n",
      "  taps: [1 0 1 0 0 0 0 0 0 0 1 0 0 0 0 1]\n",
      "  order: 16\n",
      "  state: [0 1 1 1 1 1 1 1 0 1 0 1 0 0 1 1]\n",
      "  initial_state: [0 1 1 1 1 1 1 1 0 1 0 1 0 0 1 1]\n"
     ]
    }
   ],
   "source": [
    "GF = galois.GF(2)\n",
    "y = GF(seq)\n",
    "fibo_lfsr = galois.berlekamp_massey(y, output=\"fibonacci\")  # galois also works\n",
    "print(fibo_lfsr)"
   ]
  },
  {
   "cell_type": "markdown",
   "id": "01d97806-3873-4b0d-9461-6d50f0b1cd22",
   "metadata": {},
   "source": [
    "Checking we get the magic number back...\n",
    "\n",
    "89 50 4E 47 0D 0A 1A 0A"
   ]
  },
  {
   "cell_type": "code",
   "execution_count": 8,
   "id": "7e8c911b-ab14-49db-a836-1ad24fde803d",
   "metadata": {
    "execution": {
     "iopub.execute_input": "2023-06-06T16:42:32.408495Z",
     "iopub.status.busy": "2023-06-06T16:42:32.408284Z",
     "iopub.status.idle": "2023-06-06T16:42:32.800688Z",
     "shell.execute_reply": "2023-06-06T16:42:32.799897Z",
     "shell.execute_reply.started": "2023-06-06T16:42:32.408474Z"
    },
    "tags": []
   },
   "outputs": [
    {
     "name": "stdout",
     "output_type": "stream",
     "text": [
      "0x89\n",
      "0x50\n",
      "0x4e\n",
      "0x47\n",
      "0xd\n",
      "0xa\n",
      "0x1a\n",
      "0xa\n"
     ]
    }
   ],
   "source": [
    "N = 8 * len(magic)\n",
    "initial_state = seq[:16][::-1]\n",
    "fibo_lfsr.reset(GF(initial_state))\n",
    "keystream = np.packbits(fibo_lfsr.step(N).base)\n",
    "for i in range(len(keystream)):\n",
    "    print(hex(keystream[i] ^ c[i]))"
   ]
  },
  {
   "cell_type": "markdown",
   "id": "3214cfbc-fdd2-4d82-9213-fb7dabb5eb89",
   "metadata": {},
   "source": [
    "Yay!"
   ]
  },
  {
   "cell_type": "markdown",
   "id": "4dc0b8d6-633a-4726-9091-daffa0b5c43c",
   "metadata": {},
   "source": [
    "Reset LFSR and generate keystream with same length as cyphertext"
   ]
  },
  {
   "cell_type": "code",
   "execution_count": 9,
   "id": "b0a620b6-5db7-476e-be34-50374be439a2",
   "metadata": {
    "execution": {
     "iopub.execute_input": "2023-06-06T16:42:32.802371Z",
     "iopub.status.busy": "2023-06-06T16:42:32.801708Z",
     "iopub.status.idle": "2023-06-06T16:42:32.980433Z",
     "shell.execute_reply": "2023-06-06T16:42:32.979735Z",
     "shell.execute_reply.started": "2023-06-06T16:42:32.802338Z"
    },
    "tags": []
   },
   "outputs": [],
   "source": [
    "N = 8 * len(c)\n",
    "fibo_lfsr.reset(GF(initial_state))\n",
    "keystream = np.packbits(fibo_lfsr.step(N).base)"
   ]
  },
  {
   "cell_type": "markdown",
   "id": "2fafda6d-4f83-4b45-b525-030e11e9404f",
   "metadata": {},
   "source": [
    "Write the plain PNG byte by byte"
   ]
  },
  {
   "cell_type": "code",
   "execution_count": 10,
   "id": "7336a27f-3eea-45ca-9db4-45f76b5f806b",
   "metadata": {
    "execution": {
     "iopub.execute_input": "2023-06-06T16:42:32.981384Z",
     "iopub.status.busy": "2023-06-06T16:42:32.981167Z",
     "iopub.status.idle": "2023-06-06T16:42:33.551114Z",
     "shell.execute_reply": "2023-06-06T16:42:33.550382Z",
     "shell.execute_reply.started": "2023-06-06T16:42:32.981365Z"
    },
    "tags": []
   },
   "outputs": [],
   "source": [
    "with open(\"plain.png\", \"wb\") as f:\n",
    "    for i in range(len(keystream)):\n",
    "        f.write(int(keystream[i] ^ c[i]).to_bytes())"
   ]
  },
  {
   "cell_type": "code",
   "execution_count": null,
   "id": "b78f6923-d59b-41a3-8a11-b83b246fd182",
   "metadata": {},
   "outputs": [],
   "source": []
  }
 ],
 "metadata": {
  "kernelspec": {
   "display_name": "Python 3 (ipykernel)",
   "language": "python",
   "name": "python3"
  },
  "language_info": {
   "codemirror_mode": {
    "name": "ipython",
    "version": 3
   },
   "file_extension": ".py",
   "mimetype": "text/x-python",
   "name": "python",
   "nbconvert_exporter": "python",
   "pygments_lexer": "ipython3",
   "version": "3.11.3"
  }
 },
 "nbformat": 4,
 "nbformat_minor": 5
}
