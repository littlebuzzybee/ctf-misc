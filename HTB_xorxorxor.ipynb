{
 "cells": [
  {
   "cell_type": "code",
   "execution_count": 1,
   "id": "808b0b02",
   "metadata": {},
   "outputs": [],
   "source": [
    "import os"
   ]
  },
  {
   "cell_type": "code",
   "execution_count": 2,
   "id": "989a89ad",
   "metadata": {},
   "outputs": [],
   "source": [
    "hexflag = \"134af6e1297bc4a96f6a87fe046684e8047084ee046d84c5282dd7ef292dc9\""
   ]
  },
  {
   "cell_type": "code",
   "execution_count": 3,
   "id": "e3d2b58a",
   "metadata": {},
   "outputs": [],
   "source": [
    "b = bytes.fromhex(hexflag)"
   ]
  },
  {
   "cell_type": "code",
   "execution_count": 4,
   "id": "45c6da0a",
   "metadata": {},
   "outputs": [
    {
     "data": {
      "text/plain": [
       "b'\\x13J\\xf6\\xe1){\\xc4\\xa9oj\\x87\\xfe\\x04f\\x84\\xe8\\x04p\\x84\\xee\\x04m\\x84\\xc5(-\\xd7\\xef)-\\xc9'"
      ]
     },
     "execution_count": 4,
     "metadata": {},
     "output_type": "execute_result"
    }
   ],
   "source": [
    "b # type(b): bytes"
   ]
  },
  {
   "cell_type": "code",
   "execution_count": 54,
   "id": "819af4bf",
   "metadata": {},
   "outputs": [
    {
     "data": {
      "text/plain": [
       "b'\\xd0\\xcf\\x10\\x86'"
      ]
     },
     "execution_count": 54,
     "metadata": {},
     "output_type": "execute_result"
    }
   ],
   "source": [
    "# generate 4 random bytes\n",
    "os.urandom(4)"
   ]
  },
  {
   "cell_type": "code",
   "execution_count": 6,
   "id": "1f2a06da",
   "metadata": {},
   "outputs": [
    {
     "data": {
      "text/plain": [
       "4294967296"
      ]
     },
     "execution_count": 6,
     "metadata": {},
     "output_type": "execute_result"
    }
   ],
   "source": [
    "2**(4*8) # number of seeds to bruteforce"
   ]
  },
  {
   "cell_type": "code",
   "execution_count": 7,
   "id": "88f3416f",
   "metadata": {},
   "outputs": [],
   "source": [
    "def encrypt(key, data: bytes) -> bytes:\n",
    "    xored = b''\n",
    "    for i in range(len(data)):\n",
    "        xored += bytes([data[i] ^ key[i % len(key)]])\n",
    "    return xored\n",
    "\n",
    "def decrypt(key, data: bytes) -> bytes:\n",
    "    return encrypt(key, data)"
   ]
  },
  {
   "cell_type": "code",
   "execution_count": 8,
   "id": "398ea6a1",
   "metadata": {},
   "outputs": [
    {
     "data": {
      "text/plain": [
       "{'data': bytes, 'return': bytes}"
      ]
     },
     "execution_count": 8,
     "metadata": {},
     "output_type": "execute_result"
    }
   ],
   "source": [
    "encrypt.__annotations__"
   ]
  },
  {
   "cell_type": "code",
   "execution_count": 9,
   "id": "19153d12",
   "metadata": {},
   "outputs": [
    {
     "data": {
      "text/plain": [
       "{'data': bytes, 'return': bytes}"
      ]
     },
     "execution_count": 9,
     "metadata": {},
     "output_type": "execute_result"
    }
   ],
   "source": [
    "decrypt.__annotations__"
   ]
  },
  {
   "cell_type": "code",
   "execution_count": 10,
   "id": "dd001ddd",
   "metadata": {},
   "outputs": [
    {
     "data": {
      "text/plain": [
       "b'\\x00\\x00\\x01\\x00'"
      ]
     },
     "execution_count": 10,
     "metadata": {},
     "output_type": "execute_result"
    }
   ],
   "source": [
    "n = 256\n",
    "n.to_bytes(4, 'big')"
   ]
  },
  {
   "cell_type": "code",
   "execution_count": 41,
   "id": "23274ce9",
   "metadata": {},
   "outputs": [
    {
     "data": {
      "text/plain": [
       "'E9Rb'"
      ]
     },
     "execution_count": 41,
     "metadata": {},
     "output_type": "execute_result"
    }
   ],
   "source": [
    "b'\\x45\\x39\\x52\\x62'.decode(\"utf-8\")"
   ]
  },
  {
   "cell_type": "code",
   "execution_count": 11,
   "id": "faa85299",
   "metadata": {},
   "outputs": [
    {
     "data": {
      "text/plain": [
       "4096"
      ]
     },
     "execution_count": 11,
     "metadata": {},
     "output_type": "execute_result"
    }
   ],
   "source": [
    "int.from_bytes(b'\\x10\\x00', \"big\")"
   ]
  },
  {
   "cell_type": "markdown",
   "id": "da35f42b",
   "metadata": {},
   "source": [
    "**Cracking the key**"
   ]
  },
  {
   "cell_type": "markdown",
   "id": "fd8f1617",
   "metadata": {},
   "source": [
    "\"HTB{\" becomes \"134af6e1\" by XOR operations with the key chunks"
   ]
  },
  {
   "cell_type": "code",
   "execution_count": 93,
   "id": "8accf6ad",
   "metadata": {},
   "outputs": [
    {
     "name": "stdout",
     "output_type": "stream",
     "text": [
      "5b1eb49a\n"
     ]
    }
   ],
   "source": [
    "key = \"\"\n",
    "plain = \"HTB{\"\n",
    "for i in range(len(plain)):\n",
    "    char_hex = hex(ord(plain[i]))\n",
    "    hexflag_chunk = '0x' + hexflag[2*i:2*i+2]\n",
    "    key += hex(int(char_hex, 16) ^ int(hexflag_chunk, 16))[2:]\n",
    "print(key)"
   ]
  },
  {
   "cell_type": "code",
   "execution_count": 94,
   "id": "301cd439",
   "metadata": {},
   "outputs": [
    {
     "data": {
      "text/plain": [
       "'HTB{rep34t3d_x0r_n0t_s0_s3cur3}'"
      ]
     },
     "execution_count": 94,
     "metadata": {},
     "output_type": "execute_result"
    }
   ],
   "source": [
    "decrypt(b'\\x5b\\x1e\\xb4\\x9a', b).decode(\"utf-8\")"
   ]
  },
  {
   "cell_type": "code",
   "execution_count": null,
   "id": "6838fe7f",
   "metadata": {},
   "outputs": [],
   "source": []
  }
 ],
 "metadata": {
  "kernelspec": {
   "display_name": "Python 3",
   "language": "python",
   "name": "python3"
  },
  "language_info": {
   "codemirror_mode": {
    "name": "ipython",
    "version": 3
   },
   "file_extension": ".py",
   "mimetype": "text/x-python",
   "name": "python",
   "nbconvert_exporter": "python",
   "pygments_lexer": "ipython3",
   "version": "3.8.11"
  }
 },
 "nbformat": 4,
 "nbformat_minor": 5
}
