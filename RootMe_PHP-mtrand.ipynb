{
 "cells": [
  {
   "cell_type": "code",
   "execution_count": 1,
   "metadata": {},
   "outputs": [],
   "source": [
    "import re\n",
    "import requests\n",
    "import time\n",
    "from tqdm.notebook import tqdm\n",
    "import subprocess\n",
    "import os\n",
    "import random"
   ]
  },
  {
   "cell_type": "code",
   "execution_count": 2,
   "metadata": {},
   "outputs": [
    {
     "name": "stdout",
     "output_type": "stream",
     "text": [
      "<br>Please check your e-mail for instructions how to reset your password.<br>\n"
     ]
    },
    {
     "data": {
      "application/vnd.jupyter.widget-view+json": {
       "model_id": "8e93e61d51a2442ebd6a495d7700e329",
       "version_major": 2,
       "version_minor": 0
      },
      "text/plain": [
       "  0%|          | 0/482594 [00:00<?, ?it/s]"
      ]
     },
     "metadata": {},
     "output_type": "display_data"
    },
    {
     "name": "stdout",
     "output_type": "stream",
     "text": [
      "<br>You are logged in! The flag is: SuperFancyFlag\n",
      "\n"
     ]
    }
   ],
   "source": [
    "url = \"http://challenge01.root-me.org/cryptanalyse/ch52/\"\n",
    "\n",
    "session = requests.Session()\n",
    "t = time.time()\n",
    "s = int(t)\n",
    "us = (t % 1)\n",
    "response = session.get(url)\n",
    "crsf_1, crsf_2 = re.findall(r\"[0-9a-f]{32}\", response.text)\n",
    "\n",
    "data = {\n",
    "    \"crsf_1\": crsf_1,\n",
    "    \"crsf_2\": crsf_2,\n",
    "    \"reset\": \"true\",\n",
    "    \"username\": \"admin\"\n",
    "}\n",
    "\n",
    "t = time.time()\n",
    "s = int(t)\n",
    "us = (t % 1)\n",
    "response = session.post(url, data=data)\n",
    "print(response.text)\n",
    "\n",
    "for i in tqdm(range(int(us*1000000), 1000000)):\n",
    "\n",
    "    seed = s + i\n",
    "    script = f\"$seed = {seed}; mt_srand($seed); echo md5(mt_rand());\"\n",
    "    command = f\"php -r '{script}'\"\n",
    "    token = subprocess.check_output(command, shell=True, stderr=subprocess.STDOUT, text=True).strip()\n",
    "\n",
    "    data = {\n",
    "        \"token\": token\n",
    "    }\n",
    "    response = session.post(url, data=data)\n",
    "    if random.random() < 0.002:\n",
    "        print(seed, token, response.text)\n",
    "    if \"Invalid\" not in response.text:\n",
    "        print(response.text)\n",
    "        break"
   ]
  },
  {
   "cell_type": "markdown",
   "metadata": {},
   "source": [
    "Coup de bol incroyable ?!?!?!"
   ]
  }
 ],
 "metadata": {
  "kernelspec": {
   "display_name": "perso",
   "language": "python",
   "name": "python3"
  },
  "language_info": {
   "codemirror_mode": {
    "name": "ipython",
    "version": 3
   },
   "file_extension": ".py",
   "mimetype": "text/x-python",
   "name": "python",
   "nbconvert_exporter": "python",
   "pygments_lexer": "ipython3",
   "version": "3.11.3"
  }
 },
 "nbformat": 4,
 "nbformat_minor": 2
}
