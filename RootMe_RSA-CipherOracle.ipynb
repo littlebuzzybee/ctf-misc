{
 "cells": [
  {
   "cell_type": "code",
   "execution_count": 137,
   "id": "f6a8611e-62ee-4278-bb1b-a86a942dd9b2",
   "metadata": {
    "execution": {
     "iopub.execute_input": "2023-06-08T10:14:42.198421Z",
     "iopub.status.busy": "2023-06-08T10:14:42.198158Z",
     "iopub.status.idle": "2023-06-08T10:14:42.202140Z",
     "shell.execute_reply": "2023-06-08T10:14:42.201352Z",
     "shell.execute_reply.started": "2023-06-08T10:14:42.198400Z"
    },
    "tags": []
   },
   "outputs": [],
   "source": [
    "import math\n",
    "import socket\n",
    "import time\n",
    "import re\n",
    "from Crypto.Util.number import long_to_bytes"
   ]
  },
  {
   "cell_type": "code",
   "execution_count": 2,
   "id": "b881e7ba-d09f-481b-8625-3031549004fc",
   "metadata": {
    "execution": {
     "iopub.execute_input": "2023-06-08T09:33:31.365997Z",
     "iopub.status.busy": "2023-06-08T09:33:31.365423Z",
     "iopub.status.idle": "2023-06-08T09:33:31.371019Z",
     "shell.execute_reply": "2023-06-08T09:33:31.369620Z",
     "shell.execute_reply.started": "2023-06-08T09:33:31.365963Z"
    },
    "tags": []
   },
   "outputs": [],
   "source": [
    "HOST = 'challenge01.root-me.org'\n",
    "PORT = 51031"
   ]
  },
  {
   "cell_type": "code",
   "execution_count": 18,
   "id": "7a8db16f-5930-42cf-ad17-a89445ac58fa",
   "metadata": {
    "execution": {
     "iopub.execute_input": "2023-06-08T09:35:00.469765Z",
     "iopub.status.busy": "2023-06-08T09:35:00.469390Z",
     "iopub.status.idle": "2023-06-08T09:35:00.475593Z",
     "shell.execute_reply": "2023-06-08T09:35:00.474598Z",
     "shell.execute_reply.started": "2023-06-08T09:35:00.469734Z"
    },
    "tags": []
   },
   "outputs": [],
   "source": [
    "n = 456378902858290907415273676326459758501863587455889046415299414290812776158851091008643992243505529957417209835882169153356466939122622249355759661863573516345589069208441886191855002128064647429111920432377907516007825359999\n",
    "e = 65537\n",
    "c = 41662410494900335978865720133929900027297481493143223026704112339997247425350599249812554512606167456298217619549359408254657263874918458518753744624966096201608819511858664268685529336163181156329400702800322067190861310616"
   ]
  },
  {
   "cell_type": "code",
   "execution_count": 132,
   "id": "f0b14546-ae3f-4d7b-9242-eef924fcaa85",
   "metadata": {
    "execution": {
     "iopub.execute_input": "2023-06-08T10:12:35.191574Z",
     "iopub.status.busy": "2023-06-08T10:12:35.191328Z",
     "iopub.status.idle": "2023-06-08T10:13:00.857038Z",
     "shell.execute_reply": "2023-06-08T10:13:00.855096Z",
     "shell.execute_reply.started": "2023-06-08T10:12:35.191554Z"
    },
    "tags": []
   },
   "outputs": [],
   "source": [
    "lb = 0  # lower bound\n",
    "ub = n  # upper bound\n",
    "with socket.socket(socket.AF_INET, socket.SOCK_STREAM) as s:\n",
    "    s.connect((HOST, PORT))\n",
    "    data = s.recv(1024)\n",
    "    for i in range(1, int(math.log2(n))):\n",
    "        c_to_send = c * pow(2**i, e, n) % n\n",
    "        s.sendall(str.encode(f\"{c_to_send}\\n\"))\n",
    "        data = s.recv(1024)\n",
    "        p_recv = int(re.findall(r\"\\d+\", data.decode(\"utf-8\"))[0])\n",
    "        if p_recv % 2 == 0:\n",
    "            ub = (lb + ub) // 2\n",
    "        if p_recv % 2 == 1:\n",
    "            lb = (lb + ub) // 2"
   ]
  },
  {
   "cell_type": "code",
   "execution_count": 136,
   "id": "455e247a-32cc-40c9-ba54-bdb752090595",
   "metadata": {
    "execution": {
     "iopub.execute_input": "2023-06-08T10:14:29.198021Z",
     "iopub.status.busy": "2023-06-08T10:14:29.197551Z",
     "iopub.status.idle": "2023-06-08T10:14:29.205046Z",
     "shell.execute_reply": "2023-06-08T10:14:29.204073Z",
     "shell.execute_reply.started": "2023-06-08T10:14:29.197980Z"
    },
    "tags": []
   },
   "outputs": [
    {
     "data": {
      "text/plain": [
       "b'Well done! The flag is S1d3Ch4nn3l4tt4ck'"
      ]
     },
     "execution_count": 136,
     "metadata": {},
     "output_type": "execute_result"
    }
   ],
   "source": [
    "long_to_bytes(ub+38)"
   ]
  },
  {
   "cell_type": "code",
   "execution_count": null,
   "id": "692b318e-073f-4d4a-9761-41e1fa0a1c42",
   "metadata": {},
   "outputs": [],
   "source": []
  }
 ],
 "metadata": {
  "kernelspec": {
   "display_name": "Python 3 (ipykernel)",
   "language": "python",
   "name": "python3"
  },
  "language_info": {
   "codemirror_mode": {
    "name": "ipython",
    "version": 3
   },
   "file_extension": ".py",
   "mimetype": "text/x-python",
   "name": "python",
   "nbconvert_exporter": "python",
   "pygments_lexer": "ipython3",
   "version": "3.11.3"
  }
 },
 "nbformat": 4,
 "nbformat_minor": 5
}
