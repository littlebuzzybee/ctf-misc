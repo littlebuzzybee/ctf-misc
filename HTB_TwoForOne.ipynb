{
 "cells": [
  {
   "cell_type": "code",
   "execution_count": 19,
   "id": "09a825c5",
   "metadata": {},
   "outputs": [],
   "source": [
    "from Crypto.PublicKey import RSA\n",
    "import base64"
   ]
  },
  {
   "cell_type": "code",
   "execution_count": 3,
   "id": "f3a430f0",
   "metadata": {},
   "outputs": [],
   "source": [
    "key1 = RSA.import_key(open(\"key1.pem\").read())\n",
    "key2 = RSA.import_key(open(\"key2.pem\").read())"
   ]
  },
  {
   "cell_type": "code",
   "execution_count": 4,
   "id": "3e3e2c9c",
   "metadata": {},
   "outputs": [
    {
     "data": {
      "text/plain": [
       "RsaKey(n=25080356853331150673712092961488349508728123694382279186941974911344272809718201683391687288116618021523872262260746884803456249468108932413753368793568123710905490623939699616018064364038794824072468125668702688048418916712950393799664781694224559810656290997284081084848717062228887604668548576609649709572412523306016494962925450783098637867249337121156908328927249731928363360657779226929980928871118145919627109584218577535657544952661333527174942990937484743860494188129607347202336812042045820577108243818426559386634634103676467773122325120858908782192357380855678371737765634819794619802582481594876770433687, e=65537)"
      ]
     },
     "execution_count": 4,
     "metadata": {},
     "output_type": "execute_result"
    }
   ],
   "source": [
    "key1"
   ]
  },
  {
   "cell_type": "code",
   "execution_count": 7,
   "id": "eb235993",
   "metadata": {},
   "outputs": [
    {
     "data": {
      "text/plain": [
       "RsaKey(n=25080356853331150673712092961488349508728123694382279186941974911344272809718201683391687288116618021523872262260746884803456249468108932413753368793568123710905490623939699616018064364038794824072468125668702688048418916712950393799664781694224559810656290997284081084848717062228887604668548576609649709572412523306016494962925450783098637867249337121156908328927249731928363360657779226929980928871118145919627109584218577535657544952661333527174942990937484743860494188129607347202336812042045820577108243818426559386634634103676467773122325120858908782192357380855678371737765634819794619802582481594876770433687, e=343223)"
      ]
     },
     "execution_count": 7,
     "metadata": {},
     "output_type": "execute_result"
    }
   ],
   "source": [
    "key2"
   ]
  },
  {
   "cell_type": "code",
   "execution_count": 10,
   "id": "a565ee7f",
   "metadata": {},
   "outputs": [
    {
     "data": {
      "text/plain": [
       "True"
      ]
     },
     "execution_count": 10,
     "metadata": {},
     "output_type": "execute_result"
    }
   ],
   "source": [
    "key1.n == key2.n"
   ]
  },
  {
   "cell_type": "code",
   "execution_count": 12,
   "id": "32a682aa",
   "metadata": {},
   "outputs": [],
   "source": [
    "msg1 = \"RBVdQw7Pllwb42GDYyRa6ByVOfzRrZHmxBkUPD393zxOcrNRZgfub1mqcrAgX4PAsvAOWptJSHbrHctFm6rJLzhBi/rAsKGboWqPAWYIu49Rt7Sc/5+LE2dvy5zriAKclchv9d+uUJ4/kU/vcpg2qlfTnyor6naBsZQvRze0VCMkPvqWPuE6iL6YEAjZmLWmb+bqO+unTLF4YtM1MkKTtiOEy+Bbd4LxlXIO1KSFVOoGjyLW2pVIgKzotB1/9BwJMKJV14/+MUEiP40ehH0U2zr8BeueeXp6NIZwS/9svmvmVi06Np74EbL+aeB4meaXH22fJU0eyL2FppeyvbVaYQ==\"\n",
    "msg2 = \"TSHSOfFBkK/sSE4vWxy00EAnZXrIsBI/Y6mGv466baOsST+qyYXHdPsI33Kr6ovucDjgDw/VvQtsAuGhthLbLVdldt9OWDhK5lbM6e0CuhKSoJntnvCz7GtZvjgPM7JDHQkAU7Pcyall9UEqL+W6ZCkiSQnK+j6QB7ynwCsW1wAmnCM68fY2HaBvd8RP2+rPgWv9grcEBkXf7ewA+sxSw7hahMaW0LYhsMYUggrcKqhofGgl+4UR5pdSiFg4YKUSgdSw1Ic/tug9vfHuLSiiuhrtP38yVzazqOZPXGxG4tQ6btc1helH0cLfw1SCdua1ejyan9l1GLXsAyGOKSFdKw==\""
   ]
  },
  {
   "cell_type": "code",
   "execution_count": 13,
   "id": "179bef98",
   "metadata": {},
   "outputs": [],
   "source": [
    "def egcd(a, b):\n",
    "    if a == 0:\n",
    "        return (b, 0, 1)\n",
    "    else:\n",
    "        g, y, x = egcd(b % a, a)\n",
    "        return (g, x - (b // a) * y, y)"
   ]
  },
  {
   "cell_type": "code",
   "execution_count": 14,
   "id": "55554e0c",
   "metadata": {},
   "outputs": [
    {
     "data": {
      "text/plain": [
       "(1, 133132, -25421)"
      ]
     },
     "execution_count": 14,
     "metadata": {},
     "output_type": "execute_result"
    }
   ],
   "source": [
    "egcd(key1.e, key2.e)"
   ]
  },
  {
   "cell_type": "code",
   "execution_count": 56,
   "id": "1caa6048",
   "metadata": {},
   "outputs": [
    {
     "data": {
      "text/plain": [
       "1"
      ]
     },
     "execution_count": 56,
     "metadata": {},
     "output_type": "execute_result"
    }
   ],
   "source": [
    "# Bezout coefficients\n",
    "133132*key1.e - 25421*key2.e"
   ]
  },
  {
   "cell_type": "code",
   "execution_count": 80,
   "id": "7a3e7dec",
   "metadata": {},
   "outputs": [],
   "source": [
    "# modular inverse\n",
    "def modinv(a, m):\n",
    "    g, x, y = egcd(a, m)\n",
    "    if g != 1:\n",
    "        raise Exception('modular inverse does not exist')\n",
    "    else:\n",
    "        return x % m\n",
    "\n",
    "    \n",
    "# pads a string with a '0' at the beginning if length is odd\n",
    "def pad_even(x):\n",
    "    return ('', '0')[len(x) % 2] + x\n",
    "\n",
    "\n",
    "# ciphertext to integer\n",
    "def cipher_b2n(c):\n",
    "    c64 = base64.b64decode(c)\n",
    "    tmp = \"\"\n",
    "    for char in c64: # char is int\n",
    "        tmp += pad_even(str(hex(char))[2:]) # add padded hex representation of char to tmp\n",
    "    return int(tmp, 16) # convert tmp: hex string -> dec int\n",
    "\n",
    "\n",
    "# integer to plaintext\n",
    "def cipher_n2b(m):\n",
    "    hex_m = hex(m)[2:] # remove \"0x\"\n",
    "    return bytes.fromhex(hex_m).decode('utf-8') # bytes to ascii text conversion"
   ]
  },
  {
   "cell_type": "code",
   "execution_count": 88,
   "id": "b067a1a4",
   "metadata": {},
   "outputs": [
    {
     "name": "stdout",
     "output_type": "stream",
     "text": [
      "msg int: 29754482138600667824873548828684976503132905299031678355938493565\n",
      "plaintext: HTB{C0mmon_M0dUlu5S_1S_b4D}\n"
     ]
    }
   ],
   "source": [
    "e1 = key1.e \n",
    "e2 = key2.e\n",
    "(_, s1, s2) = egcd(e1, e2)\n",
    "c1 = cipher_b2n(msg1)\n",
    "c2 = cipher_b2n(msg2)\n",
    "n = key1.n \n",
    "if s1 < 0:\n",
    "    s1 = -s1\n",
    "    c1 = modinv(c1, n)\n",
    "elif s2 < 0:\n",
    "    s2 = -s2\n",
    "    c2 = modinv(c2, n)\n",
    "m = (pow(c1,s1,n) * pow(c2,s2,n)) % n\n",
    "print(f\"msg int: {m}\\nplaintext: {cipher_n2b(m)}\")"
   ]
  },
  {
   "cell_type": "markdown",
   "id": "0b67ef00",
   "metadata": {},
   "source": [
    "$m = c_1^{s_1} \\times c_2^{s_2} \\mod n$"
   ]
  }
 ],
 "metadata": {
  "kernelspec": {
   "display_name": "Python 3 (ipykernel)",
   "language": "python",
   "name": "python3"
  },
  "language_info": {
   "codemirror_mode": {
    "name": "ipython",
    "version": 3
   },
   "file_extension": ".py",
   "mimetype": "text/x-python",
   "name": "python",
   "nbconvert_exporter": "python",
   "pygments_lexer": "ipython3",
   "version": "3.8.11"
  }
 },
 "nbformat": 4,
 "nbformat_minor": 5
}
