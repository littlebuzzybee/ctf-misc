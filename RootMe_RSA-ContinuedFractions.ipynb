{
 "cells": [
  {
   "cell_type": "code",
   "execution_count": 1,
   "metadata": {},
   "outputs": [],
   "source": [
    "from Crypto.PublicKey import RSA"
   ]
  },
  {
   "cell_type": "code",
   "execution_count": 2,
   "metadata": {},
   "outputs": [],
   "source": [
    "e = 0xf70b3bd74801a25eccbde24e01b077677e298391d4197b099a6f961244f04314da7de144dd69a8aa84686bf4ddbd14a6344bbc315218dbbaf29490a44e42e5c4a2a4e76b8101a5ca82351c07b4cfd4e08038c8d5573a827b227bce515b70866724718ec2ac03359614cdf43dd88f1ac7ee453917975a13c019e620e531207692224009c75eaef11e130f8e54cce31e86c84e9366219ae5c250853be145ea87dcf37aa7ece0a994195885e31ebcd8fe742df1cd1370c95b6684ab6c37e84762193c27dd34c3cf3f5e69957b8338f9143a0052c9381d9e2ecb9ef504c954b453f57632705ed44b28a4b5cbe61368e485da6af2dfc901e45868cdd5006913f338a3\n",
    "n = 0x0207a7df9d173f5969ad16dc318496b36be39fe581207e6ea318d3bfbe22c8b485600ba9811a78decc6d5aab79a1c2c491eb6d4f39820657b6686391b85474172ae504f48f02f7ee3a2ab31fce1cf9c22f40e919965c7f67a8acbfa11ee4e7e2f3217bc9a054587500424d0806c0e759081651f6e406a9a642de6e8e131cb644a12e46573bd8246dc5e067d2a4f176fef6eec445bfa9db888a35257376e67109faabe39b0cf8afe2ca123da8314d09f2404922fc4116d682a4bdaeecb73f59c49db7fa12a7fc5c981454925c94e0b5472e02d924dad62c260066e07c7d3b1089d5475c2c066b7f94553c75e856e3a2a773c6c24d5ba64055eb8fea3e57b06b04a3"
   ]
  },
  {
   "cell_type": "code",
   "execution_count": 3,
   "metadata": {},
   "outputs": [],
   "source": [
    "def continued_fraction(a, b):\n",
    "    cf_expansion = []\n",
    "    while b != 0:\n",
    "        cf_expansion.append(a // b)\n",
    "        a, b = b, a % b\n",
    "    return cf_expansion\n",
    "\n",
    "def convergents(cf_expansion):\n",
    "    convergents_list = []\n",
    "    n0, n1 = cf_expansion[0], cf_expansion[0] * cf_expansion[1] + 1\n",
    "    d0, d1 = 1, cf_expansion[1]\n",
    "    convergents_list.append((n0, d0))\n",
    "    convergents_list.append((n1, d1))\n",
    "\n",
    "    for term in cf_expansion[2:]:\n",
    "        n = term * n1 + n0\n",
    "        d = term * d1 + d0\n",
    "        convergents_list.append((n, d))\n",
    "        n0, n1 = n1, n\n",
    "        d0, d1 = d1, d\n",
    "    \n",
    "    return convergents_list"
   ]
  },
  {
   "cell_type": "code",
   "execution_count": 4,
   "metadata": {},
   "outputs": [],
   "source": [
    "cf_expansion = continued_fraction(e, n)\n",
    "convergents_list = convergents(cf_expansion)\n",
    "\n",
    "M = 2\n",
    "d = None\n",
    "for (num, den) in convergents_list:\n",
    "    if pow(M, e*den, n) == M:\n",
    "        d = den\n",
    "        break"
   ]
  },
  {
   "cell_type": "code",
   "execution_count": 5,
   "metadata": {},
   "outputs": [],
   "source": [
    "rsakey = RSA.construct((n, e, d))\n",
    "with open('private_key.pem', 'wb') as f:\n",
    "    f.write(rsakey.export_key(format='PEM'))"
   ]
  }
 ],
 "metadata": {
  "kernelspec": {
   "display_name": "perso",
   "language": "python",
   "name": "python3"
  },
  "language_info": {
   "codemirror_mode": {
    "name": "ipython",
    "version": 3
   },
   "file_extension": ".py",
   "mimetype": "text/x-python",
   "name": "python",
   "nbconvert_exporter": "python",
   "pygments_lexer": "ipython3",
   "version": "3.11.3"
  }
 },
 "nbformat": 4,
 "nbformat_minor": 2
}
