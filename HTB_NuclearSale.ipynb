{
 "cells": [
  {
   "cell_type": "code",
   "execution_count": 2,
   "id": "3e5b121c",
   "metadata": {},
   "outputs": [],
   "source": [
    "msg1 = \"6b65813f4fe991efe2042f79988a3b2f2559d358e55f2fa373e53b1965b5bb2b175cf039\"\n",
    "msg2 = \"fd034c32294bfa6ab44a28892e75c4f24d8e71b41cfb9a81a634b90e6238443a813a3d34\"\n",
    "msg3 = \"de328f76159108f7653a5883decb8dec06b0fd9bc8d0dd7dade1f04836b8a07da20bfe70\""
   ]
  },
  {
   "cell_type": "code",
   "execution_count": null,
   "id": "70b2e8c4",
   "metadata": {},
   "outputs": [],
   "source": [
    "# plaintext = p\n",
    "# sales key = sk\n",
    "# management key = mk"
   ]
  },
  {
   "cell_type": "code",
   "execution_count": 10,
   "id": "69c53d45",
   "metadata": {},
   "outputs": [],
   "source": [
    "c1 = int(msg1, 16) # c1 = p ^ sk\n",
    "c2 = int(msg2, 16) # c2 = c1 ^ mk = p ^ sk ^ mk\n",
    "c3 = int(msg3, 16) # c3 = c2 ^ sk = p ^ mk\n",
    "# p = c3 ^ mk"
   ]
  },
  {
   "cell_type": "code",
   "execution_count": 12,
   "id": "fe432b66",
   "metadata": {},
   "outputs": [
    {
     "data": {
      "text/plain": [
       "208635846303540935466472843700770482475848760193713633070526518762482712435299343724601"
      ]
     },
     "execution_count": 12,
     "metadata": {},
     "output_type": "execute_result"
    }
   ],
   "source": [
    "c1"
   ]
  },
  {
   "cell_type": "code",
   "execution_count": 13,
   "id": "e1c5d669",
   "metadata": {},
   "outputs": [
    {
     "data": {
      "text/plain": [
       "491520254043361956929981696626418806566212886079479565934601404861900181324852153171252"
      ]
     },
     "execution_count": 13,
     "metadata": {},
     "output_type": "execute_result"
    }
   ],
   "source": [
    "c2"
   ]
  },
  {
   "cell_type": "code",
   "execution_count": 14,
   "id": "453711f1",
   "metadata": {},
   "outputs": [
    {
     "data": {
      "text/plain": [
       "431656174182148845656257231293757385414119467653413461803244279247792829618518416424560"
      ]
     },
     "execution_count": 14,
     "metadata": {},
     "output_type": "execute_result"
    }
   ],
   "source": [
    "c3"
   ]
  },
  {
   "cell_type": "code",
   "execution_count": 27,
   "id": "b30dfedf",
   "metadata": {},
   "outputs": [
    {
     "name": "stdout",
     "output_type": "stream",
     "text": [
      "HTB{s3cr3t_sh4r1ng_w1th_x0r_15_l4m3}\n"
     ]
    }
   ],
   "source": [
    "print(bytes.fromhex(hex(c1 ^ c2 ^ c3)[2:]).decode('utf-8'))"
   ]
  },
  {
   "cell_type": "code",
   "execution_count": null,
   "id": "0e94bafa",
   "metadata": {},
   "outputs": [],
   "source": []
  }
 ],
 "metadata": {
  "kernelspec": {
   "display_name": "Python 3",
   "language": "python",
   "name": "python3"
  },
  "language_info": {
   "codemirror_mode": {
    "name": "ipython",
    "version": 3
   },
   "file_extension": ".py",
   "mimetype": "text/x-python",
   "name": "python",
   "nbconvert_exporter": "python",
   "pygments_lexer": "ipython3",
   "version": "3.8.11"
  }
 },
 "nbformat": 4,
 "nbformat_minor": 5
}
