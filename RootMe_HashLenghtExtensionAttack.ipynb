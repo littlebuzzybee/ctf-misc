{
 "cells": [
  {
   "cell_type": "code",
   "execution_count": 87,
   "metadata": {},
   "outputs": [],
   "source": [
    "import socket\n",
    "import base64\n",
    "from time import sleep"
   ]
  },
  {
   "cell_type": "code",
   "execution_count": 88,
   "metadata": {},
   "outputs": [],
   "source": [
    "url = \"challenge01.root-me.org\"\n",
    "port = 51022"
   ]
  },
  {
   "cell_type": "code",
   "execution_count": 93,
   "metadata": {},
   "outputs": [
    {
     "name": "stdout",
     "output_type": "stream",
     "text": [
      "Select an option :\n",
      "0 : Register\n",
      "1 : Login\n",
      "\n",
      "Enter your login: \n",
      "Enter your role (or guest): \n",
      "Generating your secret token with sha256 of our secret 16 bytes salt and your information\n",
      "Please wait ...\n",
      "Done !\n",
      "You can connect with cHduOg==:MGZiYzk5MjdkMDhhZjI1YzkyMTVmNjI5ZDk2NjIwOTFjNGZmOWM0ZDdhMjUxMDg0ZDM4NWNjNTZjMjQ3NDRhNw==\n",
      "\n"
     ]
    }
   ],
   "source": [
    "client_socket = socket.socket(socket.AF_INET, socket.SOCK_STREAM)\n",
    "client_socket.connect((url, port))\n",
    "\n",
    "print(client_socket.recv(1024).decode())\n",
    "client_socket.sendall(\"0\\n\".encode())\n",
    "print(client_socket.recv(1024).decode())\n",
    "client_socket.sendall(\"pwn\\n\".encode())\n",
    "print(client_socket.recv(1024).decode())\n",
    "client_socket.sendall(\"\\n\".encode())\n",
    "sleep(2)\n",
    "print(client_socket.recv(1024).decode())\n",
    "client_socket.close()"
   ]
  },
  {
   "cell_type": "code",
   "execution_count": 91,
   "metadata": {},
   "outputs": [
    {
     "data": {
      "text/plain": [
       "b'pwn:'"
      ]
     },
     "execution_count": 91,
     "metadata": {},
     "output_type": "execute_result"
    }
   ],
   "source": [
    "base64.b64decode(\"cHduOg==\")"
   ]
  },
  {
   "cell_type": "code",
   "execution_count": 92,
   "metadata": {},
   "outputs": [
    {
     "data": {
      "text/plain": [
       "b'0fbc9927d08af25c9215f629d9662091c4ff9c4d7a251084d385cc56c24744a7'"
      ]
     },
     "execution_count": 92,
     "metadata": {},
     "output_type": "execute_result"
    }
   ],
   "source": [
    "base64.b64decode(\"MGZiYzk5MjdkMDhhZjI1YzkyMTVmNjI5ZDk2NjIwOTFjNGZmOWM0ZDdhMjUxMDg0ZDM4NWNjNTZjMjQ3NDRhNw==\")"
   ]
  },
  {
   "cell_type": "markdown",
   "metadata": {},
   "source": [
    "https://github.com/iagox86/hash_extender\n",
    "\n",
    "`./hash_extender --data pwn: --secret 16 --append :admin --signature 0fbc9927d08af25c9215f629d9662091c4ff9c4d7a251084d385cc56c24744a7 --format sha256`"
   ]
  },
  {
   "cell_type": "code",
   "execution_count": 70,
   "metadata": {},
   "outputs": [],
   "source": [
    "# sha256(key || string) = signature\n",
    "string = \"70776e3a80000000000000000000000000000000000000000000000000000000000000000000000000000000000000a03a61646d696e\"\n",
    "signature = \"dc961fdcd8e659bb9a6e8130820088c3a3306363fb9850cc7dde034082399504\""
   ]
  },
  {
   "cell_type": "code",
   "execution_count": 72,
   "metadata": {},
   "outputs": [
    {
     "name": "stdout",
     "output_type": "stream",
     "text": [
      "b'cHduOoAAAAAAAAAAAAAAAAAAAAAAAAAAAAAAAAAAAAAAAAAAAAAAAAAAAAAAAACgOmFkbWlu'\n",
      "b'ZGM5NjFmZGNkOGU2NTliYjlhNmU4MTMwODIwMDg4YzNhMzMwNjM2M2ZiOTg1MGNjN2RkZTAzNDA4MjM5OTUwNA=='\n"
     ]
    }
   ],
   "source": [
    "payload_user = base64.b64encode(bytes.fromhex(string))\n",
    "print(payload_user)\n",
    "payload_hash = base64.b64encode(signature.encode())\n",
    "print(payload_hash)\n",
    "payload = payload_user + b':' + payload_hash + b'\\n'"
   ]
  },
  {
   "cell_type": "code",
   "execution_count": 94,
   "metadata": {},
   "outputs": [
    {
     "name": "stdout",
     "output_type": "stream",
     "text": [
      "Select an option :\n",
      "0 : Register\n",
      "1 : Login\n",
      "\n",
      "Enter your secret token : \n",
      "Connected !\n",
      "Welcome back! Flag to validate is u$3_HMAC_l4m3rZ!\n",
      "\n",
      "\n"
     ]
    }
   ],
   "source": [
    "client_socket = socket.socket(socket.AF_INET, socket.SOCK_STREAM)\n",
    "client_socket.connect((url, port))\n",
    "\n",
    "print(client_socket.recv(1024).decode())\n",
    "client_socket.sendall(\"1\\n\".encode())\n",
    "print(client_socket.recv(1024).decode())\n",
    "client_socket.sendall(payload)\n",
    "print(client_socket.recv(1024).decode())\n",
    "\n",
    "client_socket.close()"
   ]
  }
 ],
 "metadata": {
  "kernelspec": {
   "display_name": "perso",
   "language": "python",
   "name": "python3"
  },
  "language_info": {
   "codemirror_mode": {
    "name": "ipython",
    "version": 3
   },
   "file_extension": ".py",
   "mimetype": "text/x-python",
   "name": "python",
   "nbconvert_exporter": "python",
   "pygments_lexer": "ipython3",
   "version": "3.11.3"
  }
 },
 "nbformat": 4,
 "nbformat_minor": 2
}
