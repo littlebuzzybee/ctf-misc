{
 "cells": [
  {
   "cell_type": "code",
   "execution_count": 14,
   "id": "beeea310-3ea9-4808-91f1-135604c4b20b",
   "metadata": {},
   "outputs": [],
   "source": [
    "from Crypto.PublicKey import RSA\n",
    "import base64\n",
    "from binascii import hexlify,unhexlify"
   ]
  },
  {
   "cell_type": "code",
   "execution_count": 15,
   "id": "c0c8c526-c868-4174-a59f-95cdcb296d3c",
   "metadata": {},
   "outputs": [],
   "source": [
    "# extended greater common divisor\n",
    "def egcd(a, b):\n",
    "    if a == 0:\n",
    "        return (b, 0, 1)\n",
    "    else:\n",
    "        g, y, x = egcd(b % a, a)\n",
    "        return (g, x - (b // a) * y, y)\n",
    "\n",
    "\n",
    "# modular inverse\n",
    "def modinv(a, m):\n",
    "    g, x, y = egcd(a, m)\n",
    "    if g != 1:\n",
    "        raise Exception('modular inverse does not exist')\n",
    "    else:\n",
    "        return x % m\n",
    "\n",
    "    \n",
    "# ciphertext to integer\n",
    "def ct2int(ct):\n",
    "    return int(hexlify(base64.b64decode(ct)), 16)\n",
    "\n",
    "\n",
    "# integer to plaintext\n",
    "def int2pt(m):\n",
    "    hexm = hex(m)[2:]  # .strip(\"L\")\n",
    "    if len(hexm) % 2:\n",
    "        hexm = '0' + hexm\n",
    "    return unhexlify(hexm)"
   ]
  },
  {
   "cell_type": "code",
   "execution_count": 16,
   "id": "72b4157c-c4f1-4935-a6be-7ce363d96b4f",
   "metadata": {},
   "outputs": [],
   "source": [
    "key1 = RSA.import_key(open(\"key1_pub.pem\").read())\n",
    "key2 = RSA.import_key(open(\"key2_pub.pem\").read())"
   ]
  },
  {
   "cell_type": "code",
   "execution_count": 17,
   "id": "6b4f53c7-b0da-443d-99d5-d2d08ebe2dc6",
   "metadata": {},
   "outputs": [],
   "source": [
    "ct1 = \"BzFd4riBUZdFuPCkB3LOh+5iyMImeQ/saFLVD+ca2L8VKSz0+wtTaL55RRpHBAQdl24Fb3XyVg2N9UDcx3slT+vZs7tr03W7oJZxVp3M0ihoCwer3xZNieem8WZQvQvyNP5s5gMT+K6pjB9hDFWWmHzsn7eOYxRJZTIDgxA4k2w=\"\n",
    "ct2 = \"jmVRiKyVPy1CHiYLl8fvpsDAhz8rDa/Ug87ZUXZ//rMBKfcJ5MqZnQbyTJZwSNASnQfgel3J/xJsjlnf8LoChzhgT28qSppjMfWtQvR6mar1GA0Ya1VRHkhggX1RUFA4uzL56X5voi0wZEpJITUXubbujDXHjlAfdLC7BvL/5+w=\""
   ]
  },
  {
   "cell_type": "code",
   "execution_count": 18,
   "id": "0dc99b10-8bda-4221-8e0c-1ed611f094de",
   "metadata": {},
   "outputs": [],
   "source": [
    "c1 = ct2int(ct1)\n",
    "c2 = ct2int(ct2)"
   ]
  },
  {
   "cell_type": "code",
   "execution_count": 19,
   "id": "ca5bde84-ab88-4138-be60-0d23a256f5ef",
   "metadata": {},
   "outputs": [
    {
     "data": {
      "text/plain": [
       "5050983197907648139720782448847677677343236446273586870502111273113384857588837608900494692102715861436825279596563904392832518247929761994240007673498974877828278590361242528762459283022987952424770766975922016521475963712698089809426428406068793291250622593222599407825968002220906973019105007856539702124"
      ]
     },
     "execution_count": 19,
     "metadata": {},
     "output_type": "execute_result"
    }
   ],
   "source": [
    "c1"
   ]
  },
  {
   "cell_type": "code",
   "execution_count": 20,
   "id": "fe574b56-c9ed-4a31-9ac8-dd432c8f9236",
   "metadata": {},
   "outputs": [
    {
     "data": {
      "text/plain": [
       "99993713982446651581396992055360571139557381122865583938229634474666415937105325664345678113405954865343401854091338680448775405253508255042453184099961570780032181898606546389573694481401653361757628850127420072609555997892925890632116852740542002226555293049123266123721696951805937683483979653786235824108"
      ]
     },
     "execution_count": 20,
     "metadata": {},
     "output_type": "execute_result"
    }
   ],
   "source": [
    "c2"
   ]
  },
  {
   "cell_type": "code",
   "execution_count": 22,
   "id": "554dd98c-a5d6-478c-a686-e38141a3fe29",
   "metadata": {},
   "outputs": [
    {
     "name": "stdout",
     "output_type": "stream",
     "text": [
      "msg int: 62776018378826303731993505985858166542758896633026938340154202440070830295846836630500876932691035445174787046200753486570866078123449547598033197588810378299916556517155384672877661349185014100769763960938123717095837355876682453906268592788618322292439506868707727214682118601554445512691784759644852876334\n",
      "plaintext: b'Yeah man, you got the message. The flag is W311D0n3! and this is a padding to have a long text, else it will be easy to decrypt.'\n"
     ]
    }
   ],
   "source": [
    "n = key1.n \n",
    "e1, e2 = key1.e, key2.e\n",
    "(_, s1, s2) = egcd(e1, e2)  # compute Bezout coefficients for e1 and e2\n",
    "\n",
    "if s1 < 0:\n",
    "    s1 = -s1\n",
    "    c1 = modinv(c1, n)\n",
    "elif s2 < 0:\n",
    "    s2 = -s2\n",
    "    c2 = modinv(c2, n)\n",
    "\n",
    "m = (pow(c1,s1,n) * pow(c2,s2,n)) % n\n",
    "print(f\"msg int: {m}\\nplaintext: {int2pt(m)}\")"
   ]
  },
  {
   "cell_type": "markdown",
   "id": "4d1e2970-0908-43da-a751-d3bb697ad8d2",
   "metadata": {},
   "source": [
    "we need to compute $m = c_1^{s_1} \\times c_2^{s_2} \\mod n = (c_1^{s_1} \\mod n) \\times (c_2^{s_2} \\mod n) \\mod n$\n",
    "\n",
    "but if $s_1 < 0$, to give meaning to this expression we have to compute the modular inverse of $c_1$ and raise that to the power of $|s_1| = -s_1$\n",
    "\n",
    "same for $c_2$ and $s_2$..."
   ]
  },
  {
   "cell_type": "code",
   "execution_count": null,
   "id": "ec7fb698-6fdf-4be5-9d19-3a6e576a92e0",
   "metadata": {},
   "outputs": [],
   "source": []
  }
 ],
 "metadata": {
  "kernelspec": {
   "display_name": "Python 3 (ipykernel)",
   "language": "python",
   "name": "python3"
  },
  "language_info": {
   "codemirror_mode": {
    "name": "ipython",
    "version": 3
   },
   "file_extension": ".py",
   "mimetype": "text/x-python",
   "name": "python",
   "nbconvert_exporter": "python",
   "pygments_lexer": "ipython3",
   "version": "3.8.11"
  }
 },
 "nbformat": 4,
 "nbformat_minor": 5
}
