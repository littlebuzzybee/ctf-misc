{
 "cells": [
  {
   "cell_type": "code",
   "execution_count": 1,
   "id": "6618a813-6e64-492f-8225-144678ba1cbd",
   "metadata": {
    "execution": {
     "iopub.execute_input": "2023-05-13T08:42:56.198805Z",
     "iopub.status.busy": "2023-05-13T08:42:56.198479Z",
     "iopub.status.idle": "2023-05-13T08:42:56.254546Z",
     "shell.execute_reply": "2023-05-13T08:42:56.253583Z",
     "shell.execute_reply.started": "2023-05-13T08:42:56.198787Z"
    },
    "tags": []
   },
   "outputs": [],
   "source": [
    "import hashlib\n",
    "from Crypto.Cipher import AES"
   ]
  },
  {
   "cell_type": "code",
   "execution_count": 2,
   "id": "dc42ee7f-2345-456e-9d89-4a793d0dff7f",
   "metadata": {
    "execution": {
     "iopub.execute_input": "2023-05-13T08:42:56.257083Z",
     "iopub.status.busy": "2023-05-13T08:42:56.256846Z",
     "iopub.status.idle": "2023-05-13T08:42:56.259684Z",
     "shell.execute_reply": "2023-05-13T08:42:56.259362Z",
     "shell.execute_reply.started": "2023-05-13T08:42:56.257064Z"
    },
    "tags": []
   },
   "outputs": [],
   "source": [
    "x1 = 93808707311515764328749048019429156823177018815962831703088729905542530725\n",
    "x2 = 139273587750511132949199077353388298279458715287916158719683257616077625421\n",
    "y1 = 144188081159786866301184058966215079553216226588404139826447829786378964579\n",
    "y2 = 30737261732951428402751520492138972590770609126561688808936331585804316784\n",
    "\n",
    "p = 231933770389389338159753408142515592951889415487365399671635245679612352781"
   ]
  },
  {
   "cell_type": "code",
   "execution_count": 3,
   "id": "c1d309b7-7f0a-4843-bc31-0027f7d87c55",
   "metadata": {
    "execution": {
     "iopub.execute_input": "2023-05-13T08:42:56.260227Z",
     "iopub.status.busy": "2023-05-13T08:42:56.260104Z",
     "iopub.status.idle": "2023-05-13T08:42:56.265051Z",
     "shell.execute_reply": "2023-05-13T08:42:56.264518Z",
     "shell.execute_reply.started": "2023-05-13T08:42:56.260215Z"
    },
    "tags": []
   },
   "outputs": [],
   "source": [
    "a = (((y1**2 - y2**2) - (x1**3 - x2**3)) * pow(x1-x2, -1, p)) % p"
   ]
  },
  {
   "cell_type": "code",
   "execution_count": 4,
   "id": "d90c3b1b-9cfa-4338-bf56-48316b49ea5b",
   "metadata": {
    "execution": {
     "iopub.execute_input": "2023-05-13T08:42:56.266825Z",
     "iopub.status.busy": "2023-05-13T08:42:56.265833Z",
     "iopub.status.idle": "2023-05-13T08:42:56.274502Z",
     "shell.execute_reply": "2023-05-13T08:42:56.274106Z",
     "shell.execute_reply.started": "2023-05-13T08:42:56.266705Z"
    },
    "tags": []
   },
   "outputs": [],
   "source": [
    "b = (y1**2 - x1**3 - a*x1) % p"
   ]
  },
  {
   "cell_type": "code",
   "execution_count": 5,
   "id": "ad153b31-3d01-409b-adc7-57204c53e041",
   "metadata": {
    "execution": {
     "iopub.execute_input": "2023-05-13T08:42:56.275326Z",
     "iopub.status.busy": "2023-05-13T08:42:56.275159Z",
     "iopub.status.idle": "2023-05-13T08:42:56.279400Z",
     "shell.execute_reply": "2023-05-13T08:42:56.278968Z",
     "shell.execute_reply.started": "2023-05-13T08:42:56.275310Z"
    },
    "tags": []
   },
   "outputs": [],
   "source": [
    "assert b == (y2**2 - x2**3 - a*x2) % p"
   ]
  },
  {
   "cell_type": "code",
   "execution_count": 6,
   "id": "14d74431-954b-4a32-b10f-3ae52441835a",
   "metadata": {
    "execution": {
     "iopub.execute_input": "2023-05-13T08:42:56.280124Z",
     "iopub.status.busy": "2023-05-13T08:42:56.279875Z",
     "iopub.status.idle": "2023-05-13T08:42:56.283922Z",
     "shell.execute_reply": "2023-05-13T08:42:56.283581Z",
     "shell.execute_reply.started": "2023-05-13T08:42:56.280111Z"
    },
    "tags": []
   },
   "outputs": [
    {
     "name": "stdout",
     "output_type": "stream",
     "text": [
      "14902775479549176103916693271068277706052934716440896707334978512750519253\n",
      "220048944991955967308525489300590382240260882141745561912602020777012600739\n"
     ]
    }
   ],
   "source": [
    "print(a)\n",
    "print(b)"
   ]
  },
  {
   "cell_type": "code",
   "execution_count": 7,
   "id": "cc6d3d20-c078-43bc-a9b8-e0595a7388bc",
   "metadata": {
    "execution": {
     "iopub.execute_input": "2023-05-13T08:42:56.285159Z",
     "iopub.status.busy": "2023-05-13T08:42:56.284895Z",
     "iopub.status.idle": "2023-05-13T08:42:56.288091Z",
     "shell.execute_reply": "2023-05-13T08:42:56.287782Z",
     "shell.execute_reply.started": "2023-05-13T08:42:56.285147Z"
    },
    "tags": []
   },
   "outputs": [],
   "source": [
    "iv = bytes.fromhex(\"00b7822a196b00795078b69fcd91280d\")\n",
    "key = str(a) + str(b)"
   ]
  },
  {
   "cell_type": "code",
   "execution_count": 8,
   "id": "b55f703e-de0a-4a7e-b0c8-9da5c953c762",
   "metadata": {
    "execution": {
     "iopub.execute_input": "2023-05-13T08:42:56.288610Z",
     "iopub.status.busy": "2023-05-13T08:42:56.288485Z",
     "iopub.status.idle": "2023-05-13T08:42:56.294616Z",
     "shell.execute_reply": "2023-05-13T08:42:56.293291Z",
     "shell.execute_reply.started": "2023-05-13T08:42:56.288598Z"
    },
    "tags": []
   },
   "outputs": [],
   "source": [
    "aes = AES.new(hashlib.sha1(key.encode()).digest()[:16], AES.MODE_CBC, iv=iv)"
   ]
  },
  {
   "cell_type": "code",
   "execution_count": 9,
   "id": "40e9ea22-abc4-4562-a605-e1068e58f0db",
   "metadata": {
    "execution": {
     "iopub.execute_input": "2023-05-13T08:42:56.295758Z",
     "iopub.status.busy": "2023-05-13T08:42:56.295456Z",
     "iopub.status.idle": "2023-05-13T08:42:56.299039Z",
     "shell.execute_reply": "2023-05-13T08:42:56.297847Z",
     "shell.execute_reply.started": "2023-05-13T08:42:56.295738Z"
    },
    "tags": []
   },
   "outputs": [],
   "source": [
    "cipher = bytes.fromhex(\"8233d04a29befd2efb932b4dbac8d41869e13ecba7e5f13d48128ddd74ea0c7085b4ff402326870313e2f1dfbc9de3f96225ffbe58a87e687665b7d45a41ac22\")"
   ]
  },
  {
   "cell_type": "code",
   "execution_count": 10,
   "id": "9a20d5d6-7b62-4328-8375-d5e128e65f1b",
   "metadata": {
    "execution": {
     "iopub.execute_input": "2023-05-13T08:42:56.300010Z",
     "iopub.status.busy": "2023-05-13T08:42:56.299850Z",
     "iopub.status.idle": "2023-05-13T08:42:56.305923Z",
     "shell.execute_reply": "2023-05-13T08:42:56.305386Z",
     "shell.execute_reply.started": "2023-05-13T08:42:56.299998Z"
    },
    "tags": []
   },
   "outputs": [
    {
     "data": {
      "text/plain": [
       "b'404CTF{70u735_l35_gr4nd35_p3r50nn3s_0nt_d_@b0rd_373_d35_3nf4n7s}'"
      ]
     },
     "execution_count": 10,
     "metadata": {},
     "output_type": "execute_result"
    }
   ],
   "source": [
    "aes.decrypt(cipher)"
   ]
  },
  {
   "cell_type": "code",
   "execution_count": null,
   "id": "86d72196-29ae-4edc-ab6f-981f53e2c6d0",
   "metadata": {},
   "outputs": [],
   "source": []
  }
 ],
 "metadata": {
  "kernelspec": {
   "display_name": "Python 3 (ipykernel)",
   "language": "python",
   "name": "python3"
  },
  "language_info": {
   "codemirror_mode": {
    "name": "ipython",
    "version": 3
   },
   "file_extension": ".py",
   "mimetype": "text/x-python",
   "name": "python",
   "nbconvert_exporter": "python",
   "pygments_lexer": "ipython3",
   "version": "3.11.3"
  }
 },
 "nbformat": 4,
 "nbformat_minor": 5
}
