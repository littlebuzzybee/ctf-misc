{
 "cells": [
  {
   "cell_type": "code",
   "execution_count": 43,
   "metadata": {},
   "outputs": [],
   "source": [
    "with open(\"/home/louis/Downloads/ch64.txt\", 'r') as f:\n",
    "    s = f.read().replace(' ', '')"
   ]
  },
  {
   "cell_type": "code",
   "execution_count": 44,
   "metadata": {},
   "outputs": [
    {
     "name": "stdout",
     "output_type": "stream",
     "text": [
      "b'\\nC+ccya\\x03\\xa3s!\\x033K\\x93\\x9b\\x01\\x03{1\\x03\\x0bcas\\xbb+ca\\x03#{\\x03)\\t\\x02C+\\x93)\\x03K\\x99\\x03\\xcb{\\xab\\x91\\x033c\\x0b9\\x03\\x0b\\x99#\\t\\x03\\x93+\\xbb\\x0b\\x93a\\xd1\\x02\\x19\\x8b\\x93\\x1b\\xab\\x99\\xa3\\x92\\xfb\\x11\\x8b\\xa2\\xfb\\xfbA\\x8b3\\xa2\\xfaI\\xaa\\x9aq\\x82\\xa2\\xfa\\x9a\\xaa\\x91'\n",
      "b'\\x14\\x86V\\xc6\\xc6\\xf2\\xc2\\x07F\\xe6B\\x06f\\x97\\'6\\x02\\x06\\xf6b\\x06\\x16\\xc6\\xc2\\xe7vV\\xc6\\xc2\\x06F\\xf6\\x06R\\x12\\x04\\x86W&R\\x06\\x972\\x07\\x96\\xf7W\"\\x06f\\xc6\\x16r\\x06\\x172F\\x12\\x07&Wv\\x17&\\xc3\\xa2\\x043\\x17&7W3G%\\xf6#\\x17E\\xf7\\xf6\\x83\\x16gE\\xf4\\x93U4\\xe3\\x05E\\xf55U\"'\n",
      "b')\\x0c\\xad\\x8d\\x8d\\xe5\\x84\\x0e\\x8d\\xcc\\x84\\x0c\\xcd.Nl\\x04\\r\\xec\\xc4\\x0c-\\x8d\\x85\\xce\\xec\\xad\\x8d\\x84\\x0c\\x8d\\xec\\x0c\\xa4$\\t\\x0c\\xaeL\\xa4\\r.d\\x0f-\\xee\\xaeD\\x0c\\xcd\\x8c,\\xe4\\x0c.d\\x8c$\\x0eL\\xae\\xec.M\\x87D\\x08f.Ln\\xaef\\x8eK\\xecF.\\x8b\\xef\\xed\\x06,\\xce\\x8b\\xe9&\\xaai\\xc6\\n\\x8b\\xeaj\\xaaD'\n",
      "b'R\\x19[\\x1b\\x1b\\xcb\\x08\\x1d\\x1b\\x99\\x08\\x19\\x9a\\\\\\x9c\\xd8\\x08\\x1b\\xd9\\x88\\x18[\\x1b\\x0b\\x9d\\xd9[\\x1b\\x08\\x19\\x1b\\xd8\\x19HH\\x12\\x19\\\\\\x99H\\x1a\\\\\\xc8\\x1e[\\xdd\\\\\\x88\\x19\\x9b\\x18Y\\xc8\\x18\\\\\\xc9\\x18H\\x1c\\x99]\\xd8\\\\\\x9b\\x0e\\x88\\x10\\xcc\\\\\\x98\\xdd\\\\\\xcd\\x1c\\x97\\xd8\\x8c]\\x17\\xdf\\xda\\x0cY\\x9d\\x17\\xd2MT\\xd3\\x8c\\x15\\x17\\xd4\\xd5T\\x88'\n",
      "b'\\xa42\\xb667\\x96\\x10:72\\x1034\\xb99\\xb0\\x107\\xb3\\x100\\xb66\\x17;\\xb2\\xb66\\x1027\\xb02\\x90\\x90$2\\xb92\\x904\\xb9\\x90<\\xb7\\xba\\xb9\\x10360\\xb3\\x900\\xb9\\x920\\x9092\\xbb\\xb0\\xb96\\x1d\\x10!\\x98\\xb91\\xba\\xb9\\x9a9/\\xb1\\x18\\xba/\\xbf\\xb4\\x18\\xb3:/\\xa4\\x9a\\xa9\\xa7\\x18*/\\xa9\\xaa\\xa9\\x10'\n",
      "b'Hello, tnd firs` of all.well do`e! Here is your flag as$a rewarl: C1rcus4r_b1t_\\x7fh1ft_I5SN0T_SUR!'\n",
      "b'\\x90\\xca\\xd8\\xd8\\xdeX@\\xe8\\xdc\\xc8@\\xcc\\xd2\\xe4\\xe6\\xc0@\\xde\\xcc@\\xc2\\xd8\\xd8\\\\\\xee\\xca\\xd8\\xd8@\\xc8\\xde\\xc0\\xcaB@\\x90\\xca\\xe4\\xca@\\xd2\\xe6@\\xf2\\xde\\xea\\xe4@\\xcc\\xd8\\xc2\\xce@\\xc2\\xe6H\\xc2@\\xe4\\xca\\xee\\xc2\\xe4\\xd8t@\\x86b\\xe4\\xc6\\xea\\xe6h\\xe4\\xbe\\xc4b\\xe8\\xbe\\xfe\\xd0b\\xcc\\xe8\\xbe\\x92j\\xa6\\x9c`\\xa8\\xbe\\xa6\\xaa\\xa4B'\n",
      "b'!\\x95\\xb1\\xb1\\xbc\\xb0\\x81\\xd1\\xb9\\x90\\x81\\x99\\xa5\\xc9\\xcd\\x80\\x81\\xbd\\x98\\x81\\x85\\xb1\\xb0\\xb9\\xdd\\x95\\xb1\\xb0\\x81\\x91\\xbd\\x81\\x94\\x84\\x81!\\x95\\xc9\\x94\\x81\\xa5\\xcc\\x81\\xe5\\xbd\\xd5\\xc8\\x81\\x99\\xb1\\x85\\x9c\\x81\\x85\\xcc\\x91\\x84\\x81\\xc9\\x95\\xdd\\x85\\xc9\\xb0\\xe8\\x81\\x0c\\xc5\\xc9\\x8d\\xd5\\xcc\\xd1\\xc9}\\x88\\xc5\\xd1}\\xfd\\xa0\\xc5\\x99\\xd1}$\\xd5M8\\xc1Q}MUH\\x85'\n"
     ]
    }
   ],
   "source": [
    "for shift in range(8):\n",
    "    ss = s\n",
    "    for i in range(shift):\n",
    "        ss = ss[1:] + ss[0]\n",
    "    b = bytes([int(ss[i:i+8], 2) for i in range(0, len(ss), 8)])\n",
    "    print(b)"
   ]
  },
  {
   "cell_type": "code",
   "execution_count": 45,
   "metadata": {},
   "outputs": [],
   "source": [
    "def circular_bit_shift(s: str, n: int, shift: int) -> str:\n",
    "    # break the string into chunks of length n\n",
    "    chunks = [s[i:i+n] for i in range(0, len(s), n)]\n",
    "\n",
    "    # shift each chunk\n",
    "    shifted_chunks = [chunk[shift:] + chunk[:shift] for chunk in chunks]\n",
    "\n",
    "    shifted_s = \"\".join(shifted_chunks)\n",
    "    return shifted_s"
   ]
  },
  {
   "cell_type": "code",
   "execution_count": 46,
   "metadata": {},
   "outputs": [],
   "source": [
    "def bruteforce():\n",
    "    for n in range(2, 128):\n",
    "        for shift in range(1, n):\n",
    "            shifted_s = circular_bit_shift(s, n, shift)\n",
    "            b = bytes([int(shifted_s[i:i+8], 2) for i in range(0, len(shifted_s), 8)])\n",
    "            if b\"Hello, and first of all\" in b:\n",
    "                return n, shift, b"
   ]
  },
  {
   "cell_type": "code",
   "execution_count": 47,
   "metadata": {},
   "outputs": [
    {
     "data": {
      "text/plain": [
       "(64,\n",
       " 5,\n",
       " b'Hello, and first of all well done! Here is your flag as a reward: C1rcul4r_b1t_sh1ft_I5_N0T_SUR3')"
      ]
     },
     "execution_count": 47,
     "metadata": {},
     "output_type": "execute_result"
    }
   ],
   "source": [
    "bruteforce()"
   ]
  },
  {
   "cell_type": "code",
   "execution_count": null,
   "metadata": {},
   "outputs": [],
   "source": []
  }
 ],
 "metadata": {
  "kernelspec": {
   "display_name": "perso",
   "language": "python",
   "name": "python3"
  },
  "language_info": {
   "codemirror_mode": {
    "name": "ipython",
    "version": 3
   },
   "file_extension": ".py",
   "mimetype": "text/x-python",
   "name": "python",
   "nbconvert_exporter": "python",
   "pygments_lexer": "ipython3",
   "version": "3.11.3"
  }
 },
 "nbformat": 4,
 "nbformat_minor": 2
}
