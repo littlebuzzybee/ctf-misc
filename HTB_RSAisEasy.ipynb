{
 "cells": [
  {
   "cell_type": "code",
   "execution_count": 1,
   "id": "1c5018b2-c0d0-4022-804f-41530e0eea85",
   "metadata": {},
   "outputs": [],
   "source": [
    "from Crypto.Util.number import bytes_to_long, long_to_bytes\n",
    "import math"
   ]
  },
  {
   "cell_type": "code",
   "execution_count": 2,
   "id": "9617cc23-8b62-467d-9228-803c29177715",
   "metadata": {},
   "outputs": [],
   "source": [
    "n1 = 101302608234750530215072272904674037076286246679691423280860345380727387460347553585319149306846617895151397345134725469568034944362725840889803514170441153452816738520513986621545456486260186057658467757935510362350710672577390455772286945685838373154626020209228183673388592030449624410459900543470481715269\n",
    "c1 = 92506893588979548794790672542461288412902813248116064711808481112865246689691740816363092933206841082369015763989265012104504500670878633324061404374817814507356553697459987468562146726510492528932139036063681327547916073034377647100888763559498314765496171327071015998871821569774481702484239056959316014064\n",
    "c2 = 46096854429474193473315622000700040188659289972305530955007054362815555622172000229584906225161285873027049199121215251038480738839915061587734141659589689176363962259066462128434796823277974789556411556028716349578708536050061871052948425521408788256153194537438422533790942307426802114531079426322801866673\n",
    "m = 601613204734044874510382122719388369424704454445440856955212747733856646787417730534645761871794607755794569926160226856377491672497901427125762773794612714954548970049734347216746397532291215057264241745928752782099454036635249993278807842576939476615587990343335792606509594080976599605315657632227121700808996847129758656266941422227113386647519604149159248887809688029519252391934671647670787874483702292498358573950359909165677642135389614863992438265717898239252246163"
   ]
  },
  {
   "cell_type": "code",
   "execution_count": 3,
   "id": "6363b109-4f43-48c6-b1c0-5e8c8d18a9bc",
   "metadata": {},
   "outputs": [],
   "source": [
    "e = 65537"
   ]
  },
  {
   "cell_type": "markdown",
   "id": "f20e916d-b7bc-43ba-a6dd-5609ea6e1fd0",
   "metadata": {},
   "source": [
    "$m = n_1 E + n_2$"
   ]
  },
  {
   "cell_type": "markdown",
   "id": "d068f907-b24d-4e99-9184-c403e634ac73",
   "metadata": {},
   "source": [
    "$p, q, z$ are 512-bits primes\n",
    "\n",
    "$f_1$ and $f_2$ are flags"
   ]
  },
  {
   "cell_type": "markdown",
   "id": "240335e7-28c9-4762-ad57-4da2230f3bc8",
   "metadata": {},
   "source": [
    "$n_1 = p q$\n",
    "\n",
    "$n_2 = q z$\n",
    "\n",
    "$c_1 = f_1^e \\, [n_1]$\n",
    "\n",
    "$c_2 = f_2^e \\, [n_2]$"
   ]
  },
  {
   "cell_type": "markdown",
   "id": "0fec3088-2f98-4964-92b7-b89ed01293cc",
   "metadata": {},
   "source": [
    "`E = bytes_to_long(urandom(69))` just an old integer"
   ]
  },
  {
   "cell_type": "code",
   "execution_count": 4,
   "id": "ef4639e7-0a97-4eeb-b9bb-2c24b40d0970",
   "metadata": {},
   "outputs": [],
   "source": [
    "n2 = m % n1"
   ]
  },
  {
   "cell_type": "code",
   "execution_count": 5,
   "id": "afa4da0e-779c-454a-940c-d54d905a698d",
   "metadata": {},
   "outputs": [],
   "source": [
    "q = math.gcd(n1, n2) # common factor attack!"
   ]
  },
  {
   "cell_type": "code",
   "execution_count": 6,
   "id": "e1d0f330-1b25-487e-8170-2f433a1b0e7e",
   "metadata": {},
   "outputs": [],
   "source": [
    "p = n1 // q"
   ]
  },
  {
   "cell_type": "code",
   "execution_count": 7,
   "id": "59829a46-2b1c-447d-baad-4581890b0eaf",
   "metadata": {},
   "outputs": [],
   "source": [
    "z = n2 // q"
   ]
  },
  {
   "cell_type": "code",
   "execution_count": 8,
   "id": "8e6e8823-96f8-4c38-ad5c-8a5dedcf8b9f",
   "metadata": {},
   "outputs": [],
   "source": [
    "phi1 = (p-1) * (q-1)\n",
    "phi2 = (q-1) * (z-1)"
   ]
  },
  {
   "cell_type": "code",
   "execution_count": 9,
   "id": "7f7bb5e7-6f6e-4d56-82b1-3e61c8245d88",
   "metadata": {},
   "outputs": [],
   "source": [
    "d1 = pow(e, -1, phi1)\n",
    "d2 = pow(e, -1, phi2)"
   ]
  },
  {
   "cell_type": "code",
   "execution_count": 10,
   "id": "bfdb5243-c7c3-4543-8384-ea20169f9be5",
   "metadata": {},
   "outputs": [
    {
     "data": {
      "text/plain": [
       "b'HTB{1_m1ght_h4v3_m3ss3d'"
      ]
     },
     "execution_count": 10,
     "metadata": {},
     "output_type": "execute_result"
    }
   ],
   "source": [
    "long_to_bytes(pow(c1, d1, n1))"
   ]
  },
  {
   "cell_type": "code",
   "execution_count": 11,
   "id": "4f987533-6221-4ca2-a840-5246e89439ea",
   "metadata": {},
   "outputs": [
    {
     "data": {
      "text/plain": [
       "b'_uP_jU$t_4_l1ttle_b1t?}'"
      ]
     },
     "execution_count": 11,
     "metadata": {},
     "output_type": "execute_result"
    }
   ],
   "source": [
    "long_to_bytes(pow(c2, d2, n2))"
   ]
  },
  {
   "cell_type": "code",
   "execution_count": null,
   "id": "b820d07e-e16c-4de7-8ff0-0afcbe893d12",
   "metadata": {},
   "outputs": [],
   "source": []
  }
 ],
 "metadata": {
  "kernelspec": {
   "display_name": "Python 3 (ipykernel)",
   "language": "python",
   "name": "python3"
  },
  "language_info": {
   "codemirror_mode": {
    "name": "ipython",
    "version": 3
   },
   "file_extension": ".py",
   "mimetype": "text/x-python",
   "name": "python",
   "nbconvert_exporter": "python",
   "pygments_lexer": "ipython3",
   "version": "3.8.13"
  }
 },
 "nbformat": 4,
 "nbformat_minor": 5
}
