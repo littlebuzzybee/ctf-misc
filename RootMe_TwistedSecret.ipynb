{
 "cells": [
  {
   "cell_type": "code",
   "execution_count": 1,
   "id": "93b700bc-ed21-47ab-a6e8-52f815966cee",
   "metadata": {
    "execution": {
     "iopub.execute_input": "2023-06-08T14:40:55.064554Z",
     "iopub.status.busy": "2023-06-08T14:40:55.064024Z",
     "iopub.status.idle": "2023-06-08T14:40:55.081713Z",
     "shell.execute_reply": "2023-06-08T14:40:55.080917Z",
     "shell.execute_reply.started": "2023-06-08T14:40:55.064519Z"
    },
    "tags": []
   },
   "outputs": [],
   "source": [
    "import random\n",
    "import sys\n",
    "import collections\n",
    "from Crypto.Util.number import bytes_to_long, long_to_bytes"
   ]
  },
  {
   "cell_type": "code",
   "execution_count": 2,
   "id": "7d5da4a6-1204-423e-aa80-08c98015a62c",
   "metadata": {
    "execution": {
     "iopub.execute_input": "2023-06-08T14:40:55.084126Z",
     "iopub.status.busy": "2023-06-08T14:40:55.083729Z",
     "iopub.status.idle": "2023-06-08T14:40:55.092481Z",
     "shell.execute_reply": "2023-06-08T14:40:55.091734Z",
     "shell.execute_reply.started": "2023-06-08T14:40:55.084096Z"
    },
    "tags": []
   },
   "outputs": [],
   "source": [
    "def xor(a_, b_):\n",
    "    return bytes(a ^ b for a, b in zip(a_, b_))"
   ]
  },
  {
   "cell_type": "markdown",
   "id": "d0031dee-1db4-4449-98f4-d480c4700ae1",
   "metadata": {},
   "source": [
    "[https://gist.github.com/tejainece/4dd9fb65645745edbcef1cac18f7e695](https://gist.github.com/tejainece/4dd9fb65645745edbcef1cac18f7e695)"
   ]
  },
  {
   "cell_type": "code",
   "execution_count": 3,
   "id": "b3043076-105e-4cdd-a3a7-55e638c65093",
   "metadata": {
    "execution": {
     "iopub.execute_input": "2023-06-08T14:40:55.093737Z",
     "iopub.status.busy": "2023-06-08T14:40:55.093387Z",
     "iopub.status.idle": "2023-06-08T14:40:55.101511Z",
     "shell.execute_reply": "2023-06-08T14:40:55.100838Z",
     "shell.execute_reply.started": "2023-06-08T14:40:55.093715Z"
    },
    "tags": []
   },
   "outputs": [],
   "source": [
    "class Params:\n",
    "    # clearly a mathematician and not a programmer came up with these names\n",
    "    # because a dozen single-letter names would ordinarily be insane\n",
    "    w = 32              # word size\n",
    "    n = 624             # degree of recursion\n",
    "    m = 397             # middle term\n",
    "    r = 31              # separation point of one word\n",
    "    a = 0x9908b0df      # bottom row of matrix A\n",
    "    u = 11              # tempering shift\n",
    "    s = 7               # tempering shift\n",
    "    t = 15              # tempering shift\n",
    "    l = 18              # tempering shift\n",
    "    b = 0x9d2c5680      # tempering mask\n",
    "    c = 0xefc60000      # tempering mask\n",
    "\n",
    "def undo_xor_rshift(x, shift):\n",
    "    ''' reverses the operation x ^= (x >> shift) '''\n",
    "    result = x\n",
    "    for shift_amount in range(shift, Params.w, shift):\n",
    "        result ^= (x >> shift_amount)\n",
    "    return result\n",
    "\n",
    "def undo_xor_lshiftmask(x, shift, mask):\n",
    "    ''' reverses the operation x ^= ((x << shift) & mask) '''\n",
    "    window = (1 << shift) - 1\n",
    "    for _ in range(Params.w // shift):\n",
    "        x ^= (((window & x) << shift) & mask)\n",
    "        window <<= shift\n",
    "    return x\n",
    "\n",
    "def temper(x):\n",
    "    ''' tempers the value to improve k-distribution properties '''\n",
    "    x ^= (x >> Params.u)\n",
    "    x ^= ((x << Params.s) & Params.b)\n",
    "    x ^= ((x << Params.t) & Params.c)\n",
    "    x ^= (x >> Params.l)\n",
    "    return x\n",
    "\n",
    "def untemper(x):\n",
    "    ''' reverses the tempering operation '''\n",
    "    x = undo_xor_rshift(x, Params.l)\n",
    "    x = undo_xor_lshiftmask(x, Params.t, Params.c)\n",
    "    x = undo_xor_lshiftmask(x, Params.s, Params.b)\n",
    "    x = undo_xor_rshift(x, Params.u)\n",
    "    return x\n",
    "\n",
    "def upper(x):\n",
    "    ''' return the upper (w - r) bits of x '''\n",
    "    return x & ((1 << Params.w) - (1 << Params.r))\n",
    "\n",
    "def lower(x):\n",
    "    ''' return the lower r bits of x '''\n",
    "    return x & ((1 << Params.r) - 1)\n",
    "\n",
    "def timesA(x):\n",
    "    ''' performs the equivalent of x*A '''\n",
    "    if x & 1:\n",
    "        return (x >> 1) ^ Params.a\n",
    "    else:\n",
    "        return (x >> 1)"
   ]
  },
  {
   "cell_type": "code",
   "execution_count": 4,
   "id": "0184573f-ede8-4110-a9b2-5d054f2b6c91",
   "metadata": {
    "execution": {
     "iopub.execute_input": "2023-06-08T14:40:55.102388Z",
     "iopub.status.busy": "2023-06-08T14:40:55.102202Z",
     "iopub.status.idle": "2023-06-08T14:40:55.164245Z",
     "shell.execute_reply": "2023-06-08T14:40:55.163559Z",
     "shell.execute_reply.started": "2023-06-08T14:40:55.102368Z"
    },
    "tags": []
   },
   "outputs": [],
   "source": [
    "keys = []\n",
    "seen = collections.deque(maxlen=Params.n)\n",
    "with open(\"flag.jpg.enc\", 'rb') as c, open(\"flag.jpg.partial\", 'rb') as p:\n",
    "    for n in range(Params.n):\n",
    "        ct = c.read(4)\n",
    "        pt = p.read(4)\n",
    "        key = bytes_to_long(xor(ct, pt))\n",
    "        keys.append(key)\n",
    "        seen.append(untemper(key))\n",
    "    while True:\n",
    "        next_val = seen[-Params.n + Params.m] ^ timesA(upper(seen[-Params.n]) | lower(seen[-Params.n + 1]))\n",
    "        seen.append(next_val)\n",
    "        keys.append(temper(next_val))\n",
    "        if len(c.read(4)) < 4:\n",
    "            break"
   ]
  },
  {
   "cell_type": "code",
   "execution_count": 5,
   "id": "2be0367c-c489-4ffb-93c0-ee450944d466",
   "metadata": {
    "execution": {
     "iopub.execute_input": "2023-06-08T14:40:55.165350Z",
     "iopub.status.busy": "2023-06-08T14:40:55.164999Z",
     "iopub.status.idle": "2023-06-08T14:40:55.210258Z",
     "shell.execute_reply": "2023-06-08T14:40:55.209424Z",
     "shell.execute_reply.started": "2023-06-08T14:40:55.165314Z"
    },
    "tags": []
   },
   "outputs": [],
   "source": [
    "idx = 0\n",
    "with open(\"flag.jpg.enc\", 'rb') as c, open(\"flag.jpg\", \"wb\") as d:\n",
    "    while True:\n",
    "        ct = c.read(4)\n",
    "        if len(ct) < 4:\n",
    "            break\n",
    "        pt = xor(ct, long_to_bytes(keys[idx], 4))\n",
    "        d.write(pt)\n",
    "        idx += 1"
   ]
  },
  {
   "cell_type": "code",
   "execution_count": null,
   "id": "c8f698fa-94f8-4fbc-91b8-accf6f475d09",
   "metadata": {},
   "outputs": [],
   "source": []
  }
 ],
 "metadata": {
  "kernelspec": {
   "display_name": "Python 3 (ipykernel)",
   "language": "python",
   "name": "python3"
  },
  "language_info": {
   "codemirror_mode": {
    "name": "ipython",
    "version": 3
   },
   "file_extension": ".py",
   "mimetype": "text/x-python",
   "name": "python",
   "nbconvert_exporter": "python",
   "pygments_lexer": "ipython3",
   "version": "3.11.3"
  }
 },
 "nbformat": 4,
 "nbformat_minor": 5
}
