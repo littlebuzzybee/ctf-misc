{
 "cells": [
  {
   "cell_type": "code",
   "execution_count": 1,
   "metadata": {},
   "outputs": [],
   "source": [
    "import numpy as np"
   ]
  },
  {
   "cell_type": "code",
   "execution_count": 2,
   "metadata": {},
   "outputs": [],
   "source": [
    "A = np.array([\n",
    "    [47, -77, -85],\n",
    "    [-49, 78, 50],\n",
    "    [57, -78, 99]\n",
    "])"
   ]
  },
  {
   "cell_type": "code",
   "execution_count": 3,
   "metadata": {},
   "outputs": [],
   "source": [
    "ct = np.loadtxt(\"./crypto_quantum_safe/enc.txt\", delimiter=',') # remove parentheses and spaces in file beforehand"
   ]
  },
  {
   "cell_type": "code",
   "execution_count": 4,
   "metadata": {},
   "outputs": [],
   "source": [
    "def get_possible_r_i(i):\n",
    "    # H\n",
    "    tmp = []\n",
    "    for x in range(100):\n",
    "        for y in range(100):\n",
    "            pt = np.array([ord('H'), x, y])\n",
    "            tmp.append((ct[0] - pt @ A)[i])\n",
    "    possible_r_i = np.array(tmp)\n",
    "    # T\n",
    "    tmp = []\n",
    "    for x in range(100):\n",
    "        for y in range(100):\n",
    "            pt = np.array([ord('T'), x, y])\n",
    "            tmp.append((ct[1] - pt @ A)[i])\n",
    "    possible_r_i = np.intersect1d(possible_r_i, tmp)\n",
    "    # B\n",
    "    tmp = []\n",
    "    for x in range(100):\n",
    "        for y in range(100):\n",
    "            pt = np.array([ord('B'), x, y])\n",
    "            tmp.append((ct[2] - pt @ A)[i])\n",
    "    possible_r_i = np.intersect1d(possible_r_i, tmp)\n",
    "\n",
    "    return possible_r_i"
   ]
  },
  {
   "cell_type": "code",
   "execution_count": 5,
   "metadata": {},
   "outputs": [],
   "source": [
    "possible_r0 = get_possible_r_i(0)\n",
    "possible_r1 = get_possible_r_i(1)\n",
    "possible_r2 = get_possible_r_i(2)\n",
    "\n",
    "# limit the search space\n",
    "possible_r0 = possible_r0[(-100 <= possible_r0) & (possible_r0 <= 100)]\n",
    "possible_r1 = possible_r1[(-100 <= possible_r1) & (possible_r1 <= 100)]\n",
    "possible_r2 = possible_r2[(-100 <= possible_r2) & (possible_r2 <= 100)]"
   ]
  },
  {
   "cell_type": "code",
   "execution_count": 6,
   "metadata": {},
   "outputs": [
    {
     "name": "stdout",
     "output_type": "stream",
     "text": [
      "pt [123.  28.   2.] r [-61.  75. -97.]\n",
      "pt [123.  27.   1.] r [-53.  75.  52.]\n",
      "pt [123.  28.   1.] r [-4. -3.  2.]\n",
      "pt [123.  29.   1.] r [ 45. -81. -48.]\n"
     ]
    }
   ],
   "source": [
    "possible_r = []\n",
    "for r0 in possible_r0:\n",
    "    for r1 in possible_r1:\n",
    "        for r2 in possible_r2:\n",
    "            r = np.array([r0, r1, r2])\n",
    "            pt = np.linalg.solve(A.T, ct[3] - r)\n",
    "            if np.abs(pt[0] - ord('{')) < 1e-2 and (0 <= pt[1] <= 100) and (0 <= pt[2] <= 100):\n",
    "                print(\"pt\", pt, \"r\", r)\n",
    "                possible_r.append(r)"
   ]
  },
  {
   "cell_type": "code",
   "execution_count": 7,
   "metadata": {},
   "outputs": [
    {
     "name": "stdout",
     "output_type": "stream",
     "text": [
      "HTB{r3duc1nG_tH3_l4tTicE_l1kE_n0b0dY's_pr0bl3M}\n",
      "HTB{r3duc1nG_tH3_l4tTicE_l1kE_n0b0dY's_pr0bl3M}\n",
      "HTB{r3duc1nG_tH3_l4tTicE_l1kE_n0b0dY's_pr0bl3M}\n",
      "HTB{r3duc1nG_tH3_l4tTicE_l1kE_n0b0dY's_pr0bl3M}\n"
     ]
    }
   ],
   "source": [
    "for r in possible_r:\n",
    "    s = \"\"\n",
    "    for c in ct:\n",
    "        pt = np.linalg.solve(A.T, c - r)\n",
    "        s += chr(int(np.round(pt[0])))\n",
    "    print(s)"
   ]
  },
  {
   "cell_type": "code",
   "execution_count": null,
   "metadata": {},
   "outputs": [],
   "source": []
  }
 ],
 "metadata": {
  "kernelspec": {
   "display_name": "bc",
   "language": "python",
   "name": "python3"
  },
  "language_info": {
   "codemirror_mode": {
    "name": "ipython",
    "version": 3
   },
   "file_extension": ".py",
   "mimetype": "text/x-python",
   "name": "python",
   "nbconvert_exporter": "python",
   "pygments_lexer": "ipython3",
   "version": "3.11.3"
  }
 },
 "nbformat": 4,
 "nbformat_minor": 2
}
