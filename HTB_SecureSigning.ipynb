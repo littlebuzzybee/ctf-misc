{
 "cells": [
  {
   "cell_type": "code",
   "execution_count": 1,
   "metadata": {},
   "outputs": [
    {
     "name": "stderr",
     "output_type": "stream",
     "text": [
      "/tmp/ipykernel_123439/511731613.py:2: DeprecationWarning: 'telnetlib' is deprecated and slated for removal in Python 3.13\n",
      "  from telnetlib import Telnet\n"
     ]
    }
   ],
   "source": [
    "import re\n",
    "from telnetlib import Telnet\n",
    "from hashlib import sha256"
   ]
  },
  {
   "cell_type": "code",
   "execution_count": 2,
   "metadata": {},
   "outputs": [],
   "source": [
    "def xor(a, b):\n",
    "    return bytes([i ^ j for i, j in zip(a, b)])\n",
    "\n",
    "def H(m):\n",
    "    return sha256(m).digest()"
   ]
  },
  {
   "cell_type": "code",
   "execution_count": 3,
   "metadata": {},
   "outputs": [],
   "source": [
    "def bruteforce_next_char(flag_prefix: str, msg: str, h: str):\n",
    "    msg = msg.encode()\n",
    "    for c in range(33, 127): # ASCII printable characters\n",
    "        flag = flag_prefix + chr(c)\n",
    "        flag = flag.encode()\n",
    "        if H(xor(msg, flag)).hex() == h:\n",
    "            return flag.decode()"
   ]
  },
  {
   "cell_type": "code",
   "execution_count": 4,
   "metadata": {},
   "outputs": [
    {
     "name": "stdout",
     "output_type": "stream",
     "text": [
      "HTB{r0ll1n6_0v3r_x0r_w17h_h@5h1n6_0r@cl3_15_n07_s3cur3!@#}\n"
     ]
    }
   ],
   "source": [
    "addr = '159.65.20.166'\n",
    "port = 31350\n",
    "\n",
    "with Telnet(addr, port) as tn:\n",
    "    s = tn.read_until(b'> ').decode()\n",
    "    flag = \"\"\n",
    "    for length in range(1, 59):\n",
    "        tn.write(b'1\\n')\n",
    "        s = tn.read_until(b'Enter your message: ').decode()\n",
    "        msg = \"a\" * length\n",
    "        tn.write(msg.encode() + b'\\n')\n",
    "        s = tn.read_until(b'> ').decode()\n",
    "        h = re.findall(r'Hash: ([0-9a-f]{64})', s)[0] # extract the hash from the string\n",
    "        flag = bruteforce_next_char(flag, msg, h)\n",
    "\n",
    "print(flag)"
   ]
  },
  {
   "cell_type": "code",
   "execution_count": null,
   "metadata": {},
   "outputs": [],
   "source": []
  }
 ],
 "metadata": {
  "kernelspec": {
   "display_name": "perso",
   "language": "python",
   "name": "python3"
  },
  "language_info": {
   "codemirror_mode": {
    "name": "ipython",
    "version": 3
   },
   "file_extension": ".py",
   "mimetype": "text/x-python",
   "name": "python",
   "nbconvert_exporter": "python",
   "pygments_lexer": "ipython3",
   "version": "3.11.3"
  }
 },
 "nbformat": 4,
 "nbformat_minor": 2
}
