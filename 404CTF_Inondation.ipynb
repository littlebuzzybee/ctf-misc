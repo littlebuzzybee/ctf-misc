{
 "cells": [
  {
   "cell_type": "code",
   "execution_count": 1,
   "id": "f3ec4483-9d6a-4ba2-ba3b-aecba3bcf14e",
   "metadata": {
    "execution": {
     "iopub.execute_input": "2023-05-13T10:49:22.695935Z",
     "iopub.status.busy": "2023-05-13T10:49:22.695456Z",
     "iopub.status.idle": "2023-05-13T10:49:22.706626Z",
     "shell.execute_reply": "2023-05-13T10:49:22.705815Z",
     "shell.execute_reply.started": "2023-05-13T10:49:22.695890Z"
    },
    "tags": []
   },
   "outputs": [],
   "source": [
    "import socket\n",
    "import time"
   ]
  },
  {
   "cell_type": "code",
   "execution_count": 2,
   "id": "bea63684-6107-444e-832c-f5eae30ef322",
   "metadata": {
    "execution": {
     "iopub.execute_input": "2023-05-13T10:49:22.711137Z",
     "iopub.status.busy": "2023-05-13T10:49:22.710437Z",
     "iopub.status.idle": "2023-05-13T10:49:43.198471Z",
     "shell.execute_reply": "2023-05-13T10:49:43.196881Z",
     "shell.execute_reply.started": "2023-05-13T10:49:22.711115Z"
    },
    "tags": []
   },
   "outputs": [
    {
     "name": "stdout",
     "output_type": "stream",
     "text": [
      "« Bien joué ! Avant que tu partes, ta récompense. »\n",
      "\n",
      "Il vous tend une enveloppe.\n",
      " « Ouvres-la une fois qu'il n'y a personne autour de toi. »\n",
      "Vous faites exactement cela, à l'intérieur se trouve un billet, et une lettre. Dessus il est marqué 404CTF{4h,_l3s_P0uvo1rs_d3_l'iNforM4tiqu3!}\n",
      "\n"
     ]
    }
   ],
   "source": [
    "HOST = 'challenges.404ctf.fr'\n",
    "PORT = 31420\n",
    "with socket.socket(socket.AF_INET, socket.SOCK_STREAM) as s:\n",
    "    output = \"\"\n",
    "    s.connect((HOST, PORT))\n",
    "    time.sleep(.2)\n",
    "    data = s.recv(4096)\n",
    "    output += data.decode(\"utf-8\")\n",
    "    nb_rhinos = data.decode(\"utf-8\").count(\"~c`°^)\")\n",
    "    s.sendall(str.encode(f\"{nb_rhinos}\\n\"))\n",
    "    while True:\n",
    "        time.sleep(.2)\n",
    "        data = s.recv(4096)\n",
    "        output += data.decode(\"utf-8\")\n",
    "        if \"la suite arrive\" not in data.decode(\"utf-8\"):\n",
    "            break\n",
    "        nb_rhinos = data.decode(\"utf-8\").count(\"~c`°^)\")\n",
    "        s.sendall(str.encode(f\"{nb_rhinos}\\n\"))\n",
    "    print(output[-285:])"
   ]
  },
  {
   "cell_type": "code",
   "execution_count": null,
   "id": "d1a9b25b-0a93-4e74-a841-992270d546a2",
   "metadata": {},
   "outputs": [],
   "source": []
  }
 ],
 "metadata": {
  "kernelspec": {
   "display_name": "Python 3 (ipykernel)",
   "language": "python",
   "name": "python3"
  },
  "language_info": {
   "codemirror_mode": {
    "name": "ipython",
    "version": 3
   },
   "file_extension": ".py",
   "mimetype": "text/x-python",
   "name": "python",
   "nbconvert_exporter": "python",
   "pygments_lexer": "ipython3",
   "version": "3.11.3"
  }
 },
 "nbformat": 4,
 "nbformat_minor": 5
}
