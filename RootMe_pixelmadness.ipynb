{
 "cells": [
  {
   "cell_type": "code",
   "execution_count": 116,
   "id": "b8495a67",
   "metadata": {},
   "outputs": [],
   "source": [
    "import matplotlib.pyplot as plt\n",
    "import re\n",
    "import numpy as np"
   ]
  },
  {
   "cell_type": "code",
   "execution_count": 117,
   "id": "5aa18edd",
   "metadata": {},
   "outputs": [],
   "source": [
    "f = open(\"ch.in\", 'r')"
   ]
  },
  {
   "cell_type": "code",
   "execution_count": 118,
   "id": "ba84fe5b",
   "metadata": {},
   "outputs": [],
   "source": [
    "content = f.readlines()\n",
    "for linenb in range(len(content)):\n",
    "    content[linenb] = re.sub('\\s', '', content[linenb])"
   ]
  },
  {
   "cell_type": "code",
   "execution_count": 119,
   "id": "893d95f3",
   "metadata": {},
   "outputs": [],
   "source": [
    "imgarray = np.zeros((12,101), dtype=int)\n",
    "for linenb in range(len(content)):\n",
    "    pos = 0\n",
    "    for toparse in content[linenb].split('+'):\n",
    "        parsed = toparse.split('x')\n",
    "        for i in range(int(parsed[1])):\n",
    "            imgarray[linenb][pos] = int(parsed[0])\n",
    "            pos += 1"
   ]
  },
  {
   "cell_type": "code",
   "execution_count": 120,
   "id": "291696fe",
   "metadata": {},
   "outputs": [
    {
     "data": {
      "image/png": "[encoded data removed]",
      "text/plain": [
       "<Figure size 432x288 with 1 Axes>"
      ]
     },
     "metadata": {
      "needs_background": "light"
     },
     "output_type": "display_data"
    }
   ],
   "source": [
    "plt.imshow(imgarray)\n",
    "plt.show()"
   ]
  },
  {
   "cell_type": "code",
   "execution_count": null,
   "id": "726d1089",
   "metadata": {},
   "outputs": [],
   "source": []
  }
 ],
 "metadata": {
  "kernelspec": {
   "display_name": "Python 3",
   "language": "python",
   "name": "python3"
  },
  "language_info": {
   "codemirror_mode": {
    "name": "ipython",
    "version": 3
   },
   "file_extension": ".py",
   "mimetype": "text/x-python",
   "name": "python",
   "nbconvert_exporter": "python",
   "pygments_lexer": "ipython3",
   "version": "3.8.10"
  }
 },
 "nbformat": 4,
 "nbformat_minor": 5
}
