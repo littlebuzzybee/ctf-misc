{
 "cells": [
  {
   "cell_type": "code",
   "execution_count": 1,
   "id": "c87d61b5-f034-42e9-a561-902cc1c1d738",
   "metadata": {},
   "outputs": [],
   "source": [
    "import random"
   ]
  },
  {
   "cell_type": "code",
   "execution_count": 2,
   "id": "d9295007-753d-411c-a7c9-05b3430fa365",
   "metadata": {},
   "outputs": [],
   "source": [
    "def extract(seed):\n",
    "    random.seed(seed)\n",
    "    extracted = []\n",
    "    while len(extracted) < 5:\n",
    "        r = random.randint(1, 90)\n",
    "        if (r not in extracted):\n",
    "            extracted.append(r)\n",
    "    return extracted"
   ]
  },
  {
   "cell_type": "code",
   "execution_count": 3,
   "id": "88166514-e62f-43fa-a84f-ce1cf83ff5be",
   "metadata": {},
   "outputs": [],
   "source": [
    "# POSIX time is universal\n",
    "seed_guess = 1660218860"
   ]
  },
  {
   "cell_type": "code",
   "execution_count": 4,
   "id": "26ae9453-0927-42c9-958e-2bdd4a3ae1a0",
   "metadata": {},
   "outputs": [
    {
     "name": "stdout",
     "output_type": "stream",
     "text": [
      "seed=1660218860\textracted: [76, 1, 53, 19, 57]\n",
      "seed=1660218861\textracted: [89, 39, 29, 6, 17]\n",
      "seed=1660218862\textracted: [60, 90, 81, 85, 31]\n",
      "seed=1660218863\textracted: [4, 38, 53, 37, 42]\n",
      "seed=1660218864\textracted: [34, 43, 16, 45, 84]\n"
     ]
    }
   ],
   "source": [
    "for seed in range(seed_guess, seed_guess+5):\n",
    "    print(f\"seed={seed}\\textracted: {extract(seed)}\")"
   ]
  },
  {
   "cell_type": "code",
   "execution_count": 5,
   "id": "e1b5aab7-566d-47d8-b819-5dc217e810cc",
   "metadata": {},
   "outputs": [],
   "source": [
    "# known extracted:\n",
    "# 60 90 81 85 31"
   ]
  },
  {
   "cell_type": "markdown",
   "id": "62fa1e69-f4e1-4c72-9b64-d5d7b0b56b63",
   "metadata": {},
   "source": [
    "Ok, so the seed was $1660218862$!"
   ]
  },
  {
   "cell_type": "code",
   "execution_count": 6,
   "id": "d1938beb-3f72-491d-b1a0-881e1b4e32a4",
   "metadata": {},
   "outputs": [],
   "source": [
    "random.seed(1660218862)"
   ]
  },
  {
   "cell_type": "code",
   "execution_count": 7,
   "id": "0e8f09c8-3a01-41f7-9905-4962d5b40775",
   "metadata": {},
   "outputs": [],
   "source": [
    "extracted = []\n",
    "while len(extracted) < 5:\n",
    "    r = random.randint(1, 90)\n",
    "    if (r not in extracted):\n",
    "        extracted.append(r)\n",
    "        \n",
    "next_five = []\n",
    "solution = \"\"\n",
    "while len(next_five) < 5:\n",
    "    r = random.randint(1, 90)\n",
    "    if(r not in next_five):\n",
    "        next_five.append(r)\n",
    "        solution += str(r) + \" \"\n",
    "solution = solution.strip()"
   ]
  },
  {
   "cell_type": "code",
   "execution_count": 8,
   "id": "be86dfa7-4993-491b-8524-f6a2c7d03d87",
   "metadata": {},
   "outputs": [
    {
     "name": "stdout",
     "output_type": "stream",
     "text": [
      "[60, 90, 81, 85, 31]\n"
     ]
    }
   ],
   "source": [
    "print(extracted) # check"
   ]
  },
  {
   "cell_type": "code",
   "execution_count": 9,
   "id": "100121ac-d316-414d-be91-4600b11622b0",
   "metadata": {},
   "outputs": [
    {
     "name": "stdout",
     "output_type": "stream",
     "text": [
      "28 84 2 55 74\n"
     ]
    }
   ],
   "source": [
    "print(solution) # hooray!"
   ]
  },
  {
   "cell_type": "code",
   "execution_count": null,
   "id": "84917951-446e-4958-a6a8-7ed1f1f7c4ab",
   "metadata": {},
   "outputs": [],
   "source": []
  }
 ],
 "metadata": {
  "kernelspec": {
   "display_name": "Python 3 (ipykernel)",
   "language": "python",
   "name": "python3"
  },
  "language_info": {
   "codemirror_mode": {
    "name": "ipython",
    "version": 3
   },
   "file_extension": ".py",
   "mimetype": "text/x-python",
   "name": "python",
   "nbconvert_exporter": "python",
   "pygments_lexer": "ipython3",
   "version": "3.8.13"
  }
 },
 "nbformat": 4,
 "nbformat_minor": 5
}
