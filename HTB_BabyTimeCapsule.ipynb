{
 "cells": [
  {
   "cell_type": "markdown",
   "id": "c4a48cd8-606f-4398-bf5f-c1aa9401e145",
   "metadata": {},
   "source": [
    "Interesting read: [https://www.rose-hulman.edu/class/ma/holden/Archived_Courses/Math479-0304/resources/attacks-rsa/](https://www.rose-hulman.edu/class/ma/holden/Archived_Courses/Math479-0304/resources/attacks-rsa/)"
   ]
  },
  {
   "cell_type": "code",
   "execution_count": 1,
   "id": "02004320-1d74-4c90-a8fe-2227f2234e39",
   "metadata": {},
   "outputs": [],
   "source": [
    "from Crypto.Util.number import bytes_to_long, long_to_bytes\n",
    "from functools import reduce"
   ]
  },
  {
   "cell_type": "code",
   "execution_count": 2,
   "id": "f43b80b9-ad05-435a-a49e-7ce32f81ea08",
   "metadata": {},
   "outputs": [],
   "source": [
    "e = 5"
   ]
  },
  {
   "cell_type": "code",
   "execution_count": 3,
   "id": "610cb167-507c-422f-a5b4-732aadaacc7b",
   "metadata": {},
   "outputs": [],
   "source": [
    "c1 = \"A6DA168527B5E60937CB217460DEDFB5E9B7FF322814E0138523AE81F3E111FD9B3705A8B671D8F997AE4F1D2A9D3B3070A607FDF7C2EBCBA079D6017649F16B11E741BBA93701683966A5901D7136B7C08B28EBC3EF14076E0E9F4074713D75D9605BBCE46DD5A69C38642AE93099F138E173F2AA14D2E2208ECE2D8B3D772F\"\n",
    "c1 = int(c1, 16)\n",
    "c2 = \"80D1B5D317404CDDB1BEA2E5CFE0C69A80011078A17E3FDC69B0EDCD68C0BDE2BD0B085A08899AED92DE24AA5FB63FCA22D01CD0BC6AB523CECF78A72B35DA35D63E554AD2B6689635B12D7E1ABE434C8A6FFCBC270977D6AB87A23EE072D262B0C830F224A7C3C5438D9E101254B19FB713C39E4E1C7A94C7B8BD1AE0904C27\"\n",
    "c2 = int(c2, 16)\n",
    "c3 = \"9D5B895F1779460B3F85E6BACC7ACDCD9161A04FA978EFEC73A01F4BF707A07BAE349458CA6F6E5C46967FED5F4C2819BF0FF357F7D1C639DB3A7BE9AA04C53BEA021F9B3BFF42388FEA426DD49A8D4EC76A62802CEC6E6DC3A2F2EFF2F4238B905E8D274AC238935A00AC3FF2E846E579BB017496A6B150A8F41917D0A266D5\"\n",
    "c3 = int(c3, 16)\n",
    "c4 = \"7BADC254918591A61205C4E44311D43711E55B38E32A57471677FAC0753E283566F5762B84DAA2E31D902DBEA705E52D5564C7F04BACAD3789580649AED296851FD6B9B4036FCBC18F7521492273674BD95DB757848C67E4DA0C76D3C70683C5F6F24257BCD083F2129D624A509C2BD2442348B7566438537C248EC14C33591\"\n",
    "c4 = int(c4, 16)\n",
    "c5 = \"2479E6B4BDD15EBE7C3444943FBA974E01C3F31C9CFB294F64B6434CE6E835A97D7531114AF0C1B62C899334D1CB43E5A04A49393434B1B02F5E11B9E3F99551A13BB89690177FD73142F10A1C4E0918831F9236BDD5CD86C04CD6B93BFC16950A265F18AA12A19D9419A20E01F04F2FCE0F618A657EBCD5BBC61E5FCC24B25C\"\n",
    "c5 = int(c5, 16)"
   ]
  },
  {
   "cell_type": "code",
   "execution_count": 4,
   "id": "9e222e13-e440-4a48-afc8-9a0050ab6712",
   "metadata": {},
   "outputs": [],
   "source": [
    "n1 = \"AB28ACECCFAB1CD32148118F251EBFBA612CDF0824093E5476869947510CCBB8B7BA106ED0C49BF6C0BA8648F26D75226F312A2422552F4C9C9F8266C93BF56E97BAC7FF9C5F784C1234DC29FA1869C34680130BAF02D1E5F056F46973B1507EA8E6B8107A4B714E37E63A90755B2B22DF42F3DD438F59D76A1E73D98BD655A7\"\n",
    "n1 = int(n1, 16)\n",
    "n2 = \"86CC31A3BBFC0866AF9B308AC7A4A1A81A619FB8C91398573B3FDB59102E2B8B785B4A927B0D07420FFFFCDFDDF2578A93EDE57B253A34B9FED747CECBE88ADF2D53F3BF77CAA38F876AB451D113F2C64BF875B9253F5BC9B3B77D59B71570174FCF841B82AD3F416D00C524E2BD5D0CD4B1CA7262F08A1F958F6FF0857E0351\"\n",
    "n2 = int(n2, 16)\n",
    "n3 = \"A118D4ADB780F08F1A057CBDA14E04085F6FEAE9904CB4AFB72443E2F4FC7A116F3BE8B1BDE7801B82D81E25BAD71B307EBF85E704D0CB7239AE92814D70035B8866A84C47457BD8298DD8477458801E484CE4A7CBAAA4EB1D05DB981DA144BEF244259512A1F6104BB69B368B3458E285691F6DE5DFC701BE2570F3AB85D94F\"\n",
    "n3 = int(n3, 16)\n",
    "n4 = \"528788BEC57A2F5EFBF231E55D23F0DD6D9217851875BD611F99AB4E03A1089CEC00B97C38438FD2B4F3C72085D6F56EAC3BA46D6E3048474DDB0D3597F5D33A5A890C3B7F832FFF0B82CF2FAD5A38D4F6B2911A1B43292739C1BB0805DFB9E2514CA1E138A4347FA027A75A0C4CF852239575ABE76B17C2DD8C9D5A2A645037\"\n",
    "n4 = int(n4, 16)\n",
    "n5 = \"74CE420BF05A6F7CBB9900BF4D370C389A86C58E07C1795C72C4CB70DF82B2EEE866A5BEB85FADB0DF442B9672661932E52A45FB85F31358B2B3C5CC4679F8246C3E8047B32B00B02E4AF48CB9A2A83A893F6CB11BE4AC5D880D4B1201C3D37D820E990E6CD4C2FCA5D448F1BCF1C0806A47DC256560293F3361617D3C8FFA2B\"\n",
    "n5 = int(n5, 16)"
   ]
  },
  {
   "cell_type": "markdown",
   "id": "f8c72c15-831e-49ae-8bc6-1bc0b0a094e3",
   "metadata": {},
   "source": [
    "$n_i = p_i q_i$\n",
    "\n",
    "$p_i$ is 512 bits, $q_i$ is 512 bits\n",
    "\n",
    "$e = 5$\n",
    "\n",
    "`m = bytes_to_long(FLAG)`\n",
    "\n",
    "$c_i = m^e \\, [n_i]$ for $i \\in \\{1 \\dots 5\\}$\n",
    "\n",
    "The $n_i$ are pairwise coprime, by the Chinese remainder theorem there exists $x = m^e$ solution to this system."
   ]
  },
  {
   "cell_type": "code",
   "execution_count": 5,
   "id": "74782dc5-6de3-4a39-913f-a6cfaf82d9c4",
   "metadata": {},
   "outputs": [],
   "source": [
    "def find_invpow(x,n):\n",
    "    \"\"\"Finds the integer component of the n'th root of x,\n",
    "    an integer such that y ** n <= x < (y + 1) ** n.\n",
    "    \"\"\"\n",
    "    high = 1\n",
    "    while high ** n < x:\n",
    "        high *= 2\n",
    "    low = high // 2\n",
    "    while low < high:\n",
    "        mid = (low + high) // 2\n",
    "        if low < mid and mid**n < x:\n",
    "            low = mid\n",
    "        elif high > mid and mid**n > x:\n",
    "            high = mid\n",
    "        else:\n",
    "            return mid\n",
    "    return mid + 1"
   ]
  },
  {
   "cell_type": "code",
   "execution_count": 6,
   "id": "f8fd030a-276a-49f7-8fb1-c74d6820d18a",
   "metadata": {},
   "outputs": [],
   "source": [
    "# from Rosetta code\n",
    "\n",
    "def chinese_remainder(n, a):\n",
    "    sum = 0\n",
    "    prod = reduce(lambda a, b: a*b, n)\n",
    "    for n_i, a_i in zip(n, a):\n",
    "        p = prod // n_i\n",
    "        sum += a_i * mul_inv(p, n_i) * p\n",
    "    return sum % prod\n",
    " \n",
    "def mul_inv(a, b):\n",
    "    b0 = b\n",
    "    x0, x1 = 0, 1\n",
    "    if b == 1: return 1\n",
    "    while a > 1:\n",
    "        q = a // b\n",
    "        a, b = b, a%b\n",
    "        x0, x1 = x1 - q * x0, x0\n",
    "    if x1 < 0: x1 += b0\n",
    "    return x1"
   ]
  },
  {
   "cell_type": "code",
   "execution_count": 7,
   "id": "a96f7df1-cc9a-4f3a-9283-934c8ccc4e6b",
   "metadata": {},
   "outputs": [],
   "source": [
    "# works with as few as 3 couples but 5 used since e=5\n",
    "n = [n1, n2, n3, n4, n5]\n",
    "a = [c1, c2, c3, c4, c5]\n",
    "x = chinese_remainder(n, a)"
   ]
  },
  {
   "cell_type": "code",
   "execution_count": 8,
   "id": "b8c374f8-2fc4-4ba5-9b82-b4c262a30f33",
   "metadata": {},
   "outputs": [
    {
     "data": {
      "text/plain": [
       "b'HTB{t3h_FuTUr3_15_bR1ghT_1_H0p3_y0uR3_W34r1nG_5h4d35!}'"
      ]
     },
     "execution_count": 8,
     "metadata": {},
     "output_type": "execute_result"
    }
   ],
   "source": [
    "long_to_bytes(find_invpow(x, 5))"
   ]
  },
  {
   "cell_type": "code",
   "execution_count": null,
   "id": "137b25d5-de5e-4369-832e-35cd2717c22c",
   "metadata": {},
   "outputs": [],
   "source": []
  }
 ],
 "metadata": {
  "kernelspec": {
   "display_name": "Python 3 (ipykernel)",
   "language": "python",
   "name": "python3"
  },
  "language_info": {
   "codemirror_mode": {
    "name": "ipython",
    "version": 3
   },
   "file_extension": ".py",
   "mimetype": "text/x-python",
   "name": "python",
   "nbconvert_exporter": "python",
   "pygments_lexer": "ipython3",
   "version": "3.8.13"
  }
 },
 "nbformat": 4,
 "nbformat_minor": 5
}
