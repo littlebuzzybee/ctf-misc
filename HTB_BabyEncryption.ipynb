{
 "cells": [
  {
   "cell_type": "code",
   "execution_count": 33,
   "id": "a40c383a",
   "metadata": {},
   "outputs": [],
   "source": [
    "encmsg = \"6e0a9372ec49a3f6930ed8723f9df6f6720ed8d89dc4937222ec7214d89d1e0e352ce0aa6ec82bf622227bb70e7fb7352249b7d893c493d8539dec8fb7935d490e7f9d22ec89b7a322ec8fd80e7f8921\""
   ]
  },
  {
   "cell_type": "code",
   "execution_count": 30,
   "id": "79261776",
   "metadata": {},
   "outputs": [],
   "source": [
    "b = bytes.fromhex(encmsg)"
   ]
  },
  {
   "cell_type": "code",
   "execution_count": 31,
   "id": "dcca7a9d",
   "metadata": {},
   "outputs": [
    {
     "data": {
      "text/plain": [
       "b'n\\n\\x93r\\xecI\\xa3\\xf6\\x93\\x0e\\xd8r?\\x9d\\xf6\\xf6r\\x0e\\xd8\\xd8\\x9d\\xc4\\x93r\"\\xecr\\x14\\xd8\\x9d\\x1e\\x0e5,\\xe0\\xaan\\xc8+\\xf6\"\"{\\xb7\\x0e\\x7f\\xb75\"I\\xb7\\xd8\\x93\\xc4\\x93\\xd8S\\x9d\\xec\\x8f\\xb7\\x93]I\\x0e\\x7f\\x9d\"\\xec\\x89\\xb7\\xa3\"\\xec\\x8f\\xd8\\x0e\\x7f\\x89!'"
      ]
     },
     "execution_count": 31,
     "metadata": {},
     "output_type": "execute_result"
    }
   ],
   "source": [
    "b"
   ]
  },
  {
   "cell_type": "code",
   "execution_count": 5,
   "id": "fdd3ae9f",
   "metadata": {},
   "outputs": [],
   "source": [
    "def cryptfunc(n):\n",
    "    return (123 * n + 18) % 256"
   ]
  },
  {
   "cell_type": "code",
   "execution_count": 28,
   "id": "ca21a335",
   "metadata": {},
   "outputs": [],
   "source": [
    "cryptfunc_image = [cryptfunc(n) for n in range(256)]"
   ]
  },
  {
   "cell_type": "code",
   "execution_count": 29,
   "id": "7018fa4d",
   "metadata": {},
   "outputs": [],
   "source": [
    "def inv_cryptfunc(n):\n",
    "    return cryptfunc_image.index(n)"
   ]
  },
  {
   "cell_type": "code",
   "execution_count": 23,
   "id": "23f3953f",
   "metadata": {},
   "outputs": [],
   "source": [
    "decmsg = []\n",
    "for byte in b:\n",
    "    decmsg.append(inv_cryptfunc(int(byte)))"
   ]
  },
  {
   "cell_type": "code",
   "execution_count": 32,
   "id": "7cd7c050",
   "metadata": {},
   "outputs": [
    {
     "name": "stdout",
     "output_type": "stream",
     "text": [
      "Th3 nucl34r w1ll 4rr1v3 0n fr1d4y.\n",
      "HTB{l00k_47_y0u_r3v3rs1ng_3qu4710n5_c0ngr475}\n"
     ]
    }
   ],
   "source": [
    "print(\"\".join([chr(_) for _ in decmsg]))"
   ]
  }
 ],
 "metadata": {
  "kernelspec": {
   "display_name": "Python 3",
   "language": "python",
   "name": "python3"
  },
  "language_info": {
   "codemirror_mode": {
    "name": "ipython",
    "version": 3
   },
   "file_extension": ".py",
   "mimetype": "text/x-python",
   "name": "python",
   "nbconvert_exporter": "python",
   "pygments_lexer": "ipython3",
   "version": "3.8.11"
  }
 },
 "nbformat": 4,
 "nbformat_minor": 5
}
