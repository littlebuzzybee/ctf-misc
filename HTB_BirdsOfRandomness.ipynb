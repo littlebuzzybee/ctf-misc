{
 "cells": [
  {
   "cell_type": "code",
   "execution_count": 12,
   "metadata": {},
   "outputs": [],
   "source": [
    "from ecdsa import ellipticcurve as ecc\n",
    "from Crypto.Util.number import isPrime\n",
    "from itertools import permutations"
   ]
  },
  {
   "cell_type": "code",
   "execution_count": 5,
   "metadata": {},
   "outputs": [],
   "source": [
    "p = 17101937747109687265202713197737423\n",
    "Gx = 3543321030468950376213178213609418\n",
    "Gy = 14807290861072031659976937040569354\n",
    "ec_order = 17101937747109687496599931614463506\n",
    "E = ecc.CurveFp(p, 2, 3)\n",
    "G = ecc.Point(E, Gx, Gy, ec_order)"
   ]
  },
  {
   "cell_type": "code",
   "execution_count": 2,
   "metadata": {},
   "outputs": [],
   "source": [
    "def rotate(x, y, z):\n",
    "    x = (171 * x) % 30269\n",
    "    y = (172 * y) % 30307\n",
    "    z = (170 * z) % 30323\n",
    "    return x, y, z"
   ]
  },
  {
   "cell_type": "code",
   "execution_count": 3,
   "metadata": {},
   "outputs": [],
   "source": [
    "def get_next(x, y, z):\n",
    "    while True:\n",
    "        x, y, z = rotate(x, y, z)\n",
    "        if(isPrime(x) and isPrime(y) and isPrime(z)):\n",
    "            return x, y, z"
   ]
  },
  {
   "cell_type": "markdown",
   "metadata": {},
   "source": [
    "PARI-GP\n",
    "\n",
    "```\n",
    "p = 17101937747109687265202713197737423;\n",
    "G = [Mod(3543321030468950376213178213609418, p), Mod(14807290861072031659976937040569354, p)];\n",
    "E = ellinit([Mod(0,p), Mod(0,p), Mod(0,p), Mod(2,p), Mod(3,p)]);\n",
    "P = [Mod(11754784281881119783851377867057765, p), Mod(1717282858418066284425535646967497, p)];\n",
    "factor(elllog(E, P, G))\n",
    "```"
   ]
  },
  {
   "cell_type": "code",
   "execution_count": 14,
   "metadata": {},
   "outputs": [],
   "source": [
    "u = 373\n",
    "v = 6733\n",
    "w = 10463"
   ]
  },
  {
   "cell_type": "code",
   "execution_count": 15,
   "metadata": {},
   "outputs": [
    {
     "name": "stdout",
     "output_type": "stream",
     "text": [
      "16247102580793643329222686271075979 3608543269681112109330045032560982\n",
      "16601508370928404179641711570657448 14270310408209823177437909861963139\n",
      "15668443036586967247714169564357847 12092581546000153482467858814126215\n",
      "8984903380345981673600588793934809 4382879423149562895847981809690104\n",
      "15205558772251289578093130058046069 3635781941446122779292599498329737\n",
      "5644246840806222659773971728301782 1646306202471667551535802121095514\n"
     ]
    }
   ],
   "source": [
    "for (x, y, z) in permutations([u, v, w]):\n",
    "    x, y, z = get_next(x, y, z)\n",
    "    d = x * y * z\n",
    "    P = d * G\n",
    "    print(P.x(), P.y())"
   ]
  },
  {
   "cell_type": "code",
   "execution_count": null,
   "metadata": {},
   "outputs": [],
   "source": []
  }
 ],
 "metadata": {
  "kernelspec": {
   "display_name": "perso",
   "language": "python",
   "name": "python3"
  },
  "language_info": {
   "codemirror_mode": {
    "name": "ipython",
    "version": 3
   },
   "file_extension": ".py",
   "mimetype": "text/x-python",
   "name": "python",
   "nbconvert_exporter": "python",
   "pygments_lexer": "ipython3",
   "version": "3.11.3"
  }
 },
 "nbformat": 4,
 "nbformat_minor": 2
}
